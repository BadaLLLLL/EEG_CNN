{
  "cells": [
    {
      "cell_type": "markdown",
      "source": [
        "# Working directories\n",
        "\n",
        "We assume the following directory structure is created. Do not change it. First read instructions at [GitHub](https://github.com/artur-gramacki/Epileptic-Seizure-Detection).\n",
        "```\n",
        "   |---annotations\n",
        "   |---edf\n",
        "   |---Python\n",
        "   |---R\n",
        "       |---test_files\n",
        "   |---working\n",
        "     |---acc_loss\n",
        "     |---best_models\n",
        "     |---hists\n",
        "     |---inputs\n",
        "     |---logs\n",
        "     |---results    \n",
        "     |---ROC\n",
        "     |---waveforms\n",
        "```\n"
      ],
      "metadata": {
        "id": "Py-GNRnhGJ9q"
      }
    },
    {
      "cell_type": "markdown",
      "metadata": {
        "id": "T_spI3E1Pkpm"
      },
      "source": [
        "# Global variables\n",
        "\n",
        "Set correct values for `WRK_RIR`, `INPUT_DIR` and `GOOGLE_COLAB` global variables, according to your environment.\n",
        "\n",
        "The `COMPLETE_CALCULATIONS` should be set to `False` for the first use. If you set it to `True`, complete calculations will take and this is a very time consuming task (many hours or even days). To familiarize yourself with this notebook, we suggest that you first run it with the `COMPLETE_CALCULATIONS` variable set to `False`. Leave the other variables unchanged if you use input data provided by us (HDF5 files in the `../working/inputs` directory)\n",
        "\n",
        "**Then you can safely run all the code cells (Ctrl+F9 in Google Colab).**"
      ]
    },
    {
      "cell_type": "code",
      "execution_count": null,
      "metadata": {
        "colab": {
          "base_uri": "https://localhost:8080/"
        },
        "id": "qTd4HN9JPkpn",
        "outputId": "39fa48cf-9fa3-418e-c712-bf9aa8b3a3b0"
      },
      "outputs": [
        {
          "output_type": "stream",
          "name": "stdout",
          "text": [
            "/content/drive/MyDrive/Colab Notebooks/EEG_neonatal/__codes__and__data__/working/\n",
            "/content/drive/MyDrive/Colab Notebooks/EEG_neonatal/__codes__and__data__/working/inputs/\n",
            "1024\n"
          ]
        }
      ],
      "source": [
        "# 'working' and 'working/inputs' dirs are fixed in the R codes, do not change them.\n",
        "WRK_DIR = '/content/drive/MyDrive/Colab Notebooks/EEG_neonatal/__codes__and__data__/working/'\n",
        "INPUT_DIR = '/content/drive/MyDrive/Colab Notebooks/EEG_neonatal/__codes__and__data__/working/inputs/'\n",
        "\n",
        "# Set to False if you are not using Google Colab.\n",
        "GOOGLE_COLAB = True\n",
        "\n",
        "# A complete set of calculations will be performed if the below variable is set to True.\n",
        "# NOTE: complete calculations will take --MANY HOURS, EVEN DAYS--!\n",
        "# The GPU card is absolutely essential.\n",
        "# Without it, don't even try to start complete calculations.\n",
        "COMPLETE_CALCULATIONS = False\n",
        "\n",
        "# Used in 'train_test_split' and  'StratifiedKFold' functions to ensure reproducible results.\n",
        "SEED = 1024\n",
        "\n",
        "# Frequency of the input hdf5 files (stored in the 'inputs' directory).\n",
        "# For the purpose of the paper, the EDF files were down-sampled to 64Hz.\n",
        "# Therefore, do not change this value unless you regenerate new hdf5 files\n",
        "# in R with a value other than 64 Hz.\n",
        "FREQ = 64\n",
        "\n",
        "# See an example 'expert_A_1sec_1chunk_64Hz.txt' file which presents the desired input data structure.\n",
        "# This file contains exactly the same data as are stored in 'expert_A_1sec_1chunk_64Hz.hdf5' file.\n",
        "# HDF5 format was chosen because it is an ideal choice for storing and organizing large amounts of data.\n",
        "#\n",
        "# Number of EEG signals in the HDF5 file\n",
        "NO_OF_EEG_CHANELS = 18\n",
        "# Column number in the HDF5 file where class indicator is written\n",
        "SEIZURE_INDICATOR = 20\n",
        "\n",
        "print(WRK_DIR)\n",
        "print(INPUT_DIR)\n",
        "print(SEED)"
      ]
    },
    {
      "cell_type": "markdown",
      "metadata": {
        "id": "UKKSq-h6Q03H"
      },
      "source": [
        "# Drive mount in Colab\n",
        "Run this code cell only if your working environment is Google Colaboratory."
      ]
    },
    {
      "cell_type": "code",
      "execution_count": null,
      "metadata": {
        "colab": {
          "base_uri": "https://localhost:8080/"
        },
        "id": "DkF7dOUgQzXQ",
        "outputId": "b224f6f3-8fb0-4cf0-aa15-850bd8e15a7f"
      },
      "outputs": [
        {
          "output_type": "stream",
          "name": "stdout",
          "text": [
            "Mounted at /content/drive/\n"
          ]
        }
      ],
      "source": [
        "if GOOGLE_COLAB:\n",
        "    from google.colab import drive\n",
        "    drive.mount(\"/content/drive/\")"
      ]
    },
    {
      "cell_type": "markdown",
      "metadata": {
        "id": "AStfBCApQ61f"
      },
      "source": [
        "# GPU info\n",
        "Run this code cell only if your working environment is Google Colaboratory.\n",
        "\n",
        "First check if GPU is available in your Google account (GPU usage limits vary over time).\n",
        "\n",
        "See https://research.google.com/colaboratory/faq.html for details.\n",
        "\n",
        "NOTE: without access to the GPU, calculations will be unacceptably long."
      ]
    },
    {
      "cell_type": "code",
      "execution_count": null,
      "metadata": {
        "colab": {
          "base_uri": "https://localhost:8080/"
        },
        "id": "7Wzt_2IMQqGh",
        "outputId": "b05112a3-1efc-4447-aa13-b89f00994046"
      },
      "outputs": [
        {
          "output_type": "stream",
          "name": "stdout",
          "text": [
            "Wed Apr 20 08:11:11 2022       \n",
            "+-----------------------------------------------------------------------------+\n",
            "| NVIDIA-SMI 460.32.03    Driver Version: 460.32.03    CUDA Version: 11.2     |\n",
            "|-------------------------------+----------------------+----------------------+\n",
            "| GPU  Name        Persistence-M| Bus-Id        Disp.A | Volatile Uncorr. ECC |\n",
            "| Fan  Temp  Perf  Pwr:Usage/Cap|         Memory-Usage | GPU-Util  Compute M. |\n",
            "|                               |                      |               MIG M. |\n",
            "|===============================+======================+======================|\n",
            "|   0  Tesla K80           Off  | 00000000:00:04.0 Off |                    0 |\n",
            "| N/A   62C    P8    30W / 149W |      0MiB / 11441MiB |      0%      Default |\n",
            "|                               |                      |                  N/A |\n",
            "+-------------------------------+----------------------+----------------------+\n",
            "                                                                               \n",
            "+-----------------------------------------------------------------------------+\n",
            "| Processes:                                                                  |\n",
            "|  GPU   GI   CI        PID   Type   Process name                  GPU Memory |\n",
            "|        ID   ID                                                   Usage      |\n",
            "|=============================================================================|\n",
            "|  No running processes found                                                 |\n",
            "+-----------------------------------------------------------------------------+\n"
          ]
        }
      ],
      "source": [
        "if GOOGLE_COLAB:\n",
        "    gpu_info = !nvidia-smi\n",
        "    gpu_info = '\\n'.join(gpu_info)\n",
        "    if gpu_info.find('failed') >= 0:\n",
        "        print('No GPU available')\n",
        "    else:\n",
        "        print(gpu_info)"
      ]
    },
    {
      "cell_type": "markdown",
      "metadata": {
        "id": "0cjkpzeMv6Ge"
      },
      "source": [
        "# Clearing the directory contents\n",
        "Uncomment the below `rm` and `mkdir` commands to clear the content of these directories. **Use with caution!**\n",
        "\n",
        "The `inputs` directory must contain the HDF5 data files for the CNN network. These files are regenerated in R.\n",
        "\n",
        "If you are working in Windows, change the Linux-like command for Windows-like equivalents.\n"
      ]
    },
    {
      "cell_type": "code",
      "execution_count": null,
      "metadata": {
        "colab": {
          "base_uri": "https://localhost:8080/"
        },
        "id": "4rHTLuMhVXZe",
        "outputId": "b567cea3-21ee-4ee6-8c84-b7297e7634d0"
      },
      "outputs": [
        {
          "output_type": "stream",
          "name": "stdout",
          "text": [
            "DONE\n"
          ]
        }
      ],
      "source": [
        "#!rm -rf \"$WRK_DIR/acc_loss\"\n",
        "#!rm -rf \"$WRK_DIR/best_models\"\n",
        "#!rm -rf \"$WRK_DIR/hists\"\n",
        "#!rm -rf \"$WRK_DIR/logs\"\n",
        "#!rm -rf \"$WRK_DIR/results\"\n",
        "#!rm -rf \"$WRK_DIR/ROC\"\n",
        "#!rm -rf \"$WRK_DIR/waveforms\"\n",
        "\n",
        "#!mkdir \"$WRK_DIR/acc_loss\"\n",
        "#!mkdir \"$WRK_DIR/best_models\"\n",
        "#!mkdir \"$WRK_DIR/hists\"\n",
        "#!mkdir \"$WRK_DIR/logs\"\n",
        "#!mkdir \"$WRK_DIR/results\"\n",
        "#!mkdir \"$WRK_DIR/ROC\"\n",
        "#!mkdir \"$WRK_DIR/waveforms\"\n",
        "\n",
        "print(\"DONE\")"
      ]
    },
    {
      "cell_type": "code",
      "execution_count": null,
      "metadata": {
        "colab": {
          "base_uri": "https://localhost:8080/"
        },
        "id": "I2EY0alCV0G3",
        "outputId": "5ae0841a-0c76-48db-9047-5b7455897238"
      },
      "outputs": [
        {
          "output_type": "stream",
          "name": "stdout",
          "text": [
            "DONE\n"
          ]
        }
      ],
      "source": [
        "#!ls -la \"$WRK_DIR/acc_loss\"\n",
        "#!ls -la \"$WRK_DIR/best_models\"\n",
        "#!ls -la \"$WRK_DIR/hists\"\n",
        "#!ls -la \"$WRK_DIR/logs\"\n",
        "#!ls -la \"$WRK_DIR/inputs\"\n",
        "#!ls -la \"$WRK_DIR/results\"\n",
        "#!ls -la \"$WRK_DIR/ROC\"\n",
        "#!ls -la \"$WRK_DIR/waveforms\"\n",
        "\n",
        "print(\"DONE\")"
      ]
    },
    {
      "cell_type": "markdown",
      "metadata": {
        "id": "rXIYPhtwRrRQ"
      },
      "source": [
        "# TensorBoard\n",
        "\n",
        "Check if TensorBoard is working properly in your working environment. For example in Kaggle it does not start correctly (a bit unexpectedly)."
      ]
    },
    {
      "cell_type": "code",
      "execution_count": null,
      "metadata": {
        "id": "yoAw3QMjRfUo",
        "colab": {
          "base_uri": "https://localhost:8080/",
          "height": 839
        },
        "outputId": "36ccb230-041a-4e52-cfc3-7a9c5b8652b2"
      },
      "outputs": [],
      "source": [
        "#Start by installing TF 2.0 and loading the TensorBoard notebook extension:\n",
        "#!pip install -q tf-nightly-2.0-preview\n",
        "# Load the TensorBoard notebook extension\n",
        "# !kill 2604\n",
        "%load_ext tensorboard\n",
        "\n",
        "# Uncomment to clear\n",
        "#!rm -rf \"$WRK_DIR/logs/\"\n",
        "#!mkdir  \"$WRK_DIR/logs/\"\n",
        "TBDIR = WRK_DIR + \"logs/\"\n",
        "%tensorboard --logdir \"$TBDIR\"\n",
        "\n",
        "print(TBDIR)"
      ]
    },
    {
      "cell_type": "markdown",
      "metadata": {
        "id": "YOJNDhLLPkpn"
      },
      "source": [
        "# Imports"
      ]
    },
    {
      "cell_type": "code",
      "execution_count": null,
      "metadata": {
        "colab": {
          "base_uri": "https://localhost:8080/"
        },
        "id": "SBDDwjUVPkpo",
        "outputId": "80929be8-62c0-40a5-d482-e204b7a33046"
      },
      "outputs": [
        {
          "output_type": "stream",
          "name": "stdout",
          "text": [
            "2.8.0\n",
            "DONE\n"
          ]
        }
      ],
      "source": [
        "# TensorFlow and tf.keras\n",
        "# https://pypi.org/project/silence-tensorflow/\n",
        "# Genialny pakiet, który wyłacza wszystkie wnerwiające warning-i i inne \"badziewia\" pojawiające się w konsoli.\n",
        "# Simple python package to shut up Tensorflow warnings and logs.\n",
        "# You only need to import the package __BEFORE__ import Tensorflow:\n",
        "#\n",
        "# In Colab this is not neccessary (all 'dirty warnings' are dissabled by default.)\n",
        "if  not GOOGLE_COLAB:\n",
        "    from silence_tensorflow import silence_tensorflow\n",
        "    silence_tensorflow()\n",
        "\n",
        "import tensorflow as tf\n",
        "import numpy as np\n",
        "import pandas as pd\n",
        "import matplotlib.pyplot as plt\n",
        "import matplotlib as mpl\n",
        "import time\n",
        "import math\n",
        "import h5py\n",
        "import pickle\n",
        "import time\n",
        "import random\n",
        "import os\n",
        "import sklearn\n",
        "import csv\n",
        "from tensorflow import keras\n",
        "from tensorflow.keras import layers\n",
        "from tensorflow.keras.optimizers import RMSprop, SGD, Adam\n",
        "from tensorflow.keras import regularizers\n",
        "from keras.utils.vis_utils import plot_model\n",
        "from sklearn.model_selection import train_test_split, StratifiedKFold\n",
        "from sklearn.metrics import confusion_matrix, roc_curve, roc_auc_score\n",
        "from random import randrange\n",
        "from numpy import genfromtxt\n",
        "\n",
        "print(tf.__version__ )\n",
        "\n",
        "print(\"DONE\")"
      ]
    },
    {
      "cell_type": "markdown",
      "metadata": {
        "id": "XxdDcveePkpo"
      },
      "source": [
        "# read_data function\n",
        "We assume that the input data have the following format: `expert_XXX_YYYsec_ZZZchunk_VVVHz.hdf5` where:\n",
        "\n",
        "- XXX - strings (values used in the paper are \"A\", \"B\" or \"C\")\n",
        "- YYY - window size in sec (values used in the paper are 1, 2, 5, 10, 20)\n",
        "- ZZZ - number of contiguous chunks (values used in the paper are 1, 2, 5, 10, 20, 10000)\n",
        "- VVV - base frequency in the HDF5 file (value used in the paper is 64)\n"
      ]
    },
    {
      "cell_type": "code",
      "execution_count": null,
      "metadata": {
        "colab": {
          "base_uri": "https://localhost:8080/"
        },
        "id": "Q-dsQuYdPkpp",
        "outputId": "f2a01ed3-2851-44e6-cf8f-08533a20e024"
      },
      "outputs": [
        {
          "output_type": "stream",
          "name": "stdout",
          "text": [
            "DONE\n"
          ]
        }
      ],
      "source": [
        "def read_data(freq, which_expert, window, chunks, print_to_file = False):\n",
        "    # freq - base frequency in .hdf5 file\n",
        "    # which_expert - \"A\", \"B\" or \"C\"\n",
        "    # window - sliding-window size\n",
        "    # chunks - number of contiguous chunks\n",
        "\n",
        "    freq = freq\n",
        "    which_expert = which_expert\n",
        "    window = window\n",
        "    chunks = chunks\n",
        "\n",
        "    data_name = \"expert_{}_{}sec_{}chunk_{}Hz.hdf5\".format(which_expert, window, chunks, freq)\n",
        "    data_name_no_ext = os.path.splitext(data_name)[0]\n",
        "    results_str = WRK_DIR + \"results/results_\" + data_name_no_ext + \".txt\"\n",
        "\n",
        "    if print_to_file:\n",
        "        f = open(results_str, \"a\")\n",
        "        print(data_name)\n",
        "        print(\"########################################################\", file = f)\n",
        "        print(\"#\", data_name, file = f)\n",
        "        print(\"########################################################\", file = f)\n",
        "\n",
        "    ds = 1 # down sampling factor  (must be divisible by \"freq\", that is, 1,2,4,8 etc. In practice no more than 4, 1 - no down-sampling)\n",
        "           # While preparing our hdf5 files in R, they have already gone through the down sampling procedure (256Hz --> 64Hz).\n",
        "           # Therefore, we set ds = 1 here.\n",
        "    size = int(freq * window / ds)\n",
        "\n",
        "    file_h5 = h5py.File(INPUT_DIR + data_name, \"r\")\n",
        "    list(file_h5.keys())\n",
        "    temp = file_h5[\"FINAL.mtx\"]\n",
        "    temp = np.array(temp)\n",
        "    # Transposition is needed here. In hdf5 file rows and columns are swapped\n",
        "    dd = np.transpose(temp)\n",
        "    dd.shape\n",
        "\n",
        "    ddss = dd[::ds]\n",
        "    ddss.shape\n",
        "    dr = ddss.reshape(int(ddss.shape[0] / size), size, dd.shape[1])\n",
        "    dr.shape\n",
        "\n",
        "    # See 'Global variables' block\n",
        "    x = dr[:,:,0:NO_OF_EEG_CHANELS]\n",
        "    x.shape\n",
        "    # '-1' as in Python indexing starts from 0\n",
        "    y = dr[:,0,SEIZURE_INDICATOR - 1]\n",
        "    y.shape\n",
        "\n",
        "    # Normalization\n",
        "    x = tf.keras.utils.normalize(x, axis = 1)\n",
        "\n",
        "    if print_to_file:\n",
        "        # print(\"dd:\", dd.shape, file = f)\n",
        "        print(\"Input matrix dims:\", ddss.shape, file = f)\n",
        "        print(\"x:\", x.shape, file = f)\n",
        "        print(\"y:\", y.shape, file = f)\n",
        "        f.close()\n",
        "\n",
        "    return x, y, data_name\n",
        "\n",
        "print(\"DONE\")"
      ]
    },
    {
      "cell_type": "markdown",
      "metadata": {
        "id": "e2AroulnPkpq"
      },
      "source": [
        "# build_CNN_model function"
      ]
    },
    {
      "cell_type": "code",
      "execution_count": null,
      "metadata": {
        "colab": {
          "base_uri": "https://localhost:8080/"
        },
        "id": "q7k-ri9rPkpq",
        "outputId": "98717b25-a53a-4e15-cf29-8b31a444e4f3"
      },
      "outputs": [
        {
          "output_type": "stream",
          "name": "stdout",
          "text": [
            "DONE\n"
          ]
        }
      ],
      "source": [
        "def get_function_name():\n",
        "    import inspect\n",
        "    return inspect.stack()[1][3]\n",
        "\n",
        "def build_CNN_model(my_shape):\n",
        "    description = get_function_name()\n",
        "    model = tf.keras.models.Sequential(\n",
        "        [\n",
        "            tf.keras.layers.InputLayer(input_shape = my_shape[1:]),\n",
        "            tf.keras.layers.Conv2D(filters = 128, kernel_size = (3, 3), strides = (1, 1), padding = \"same\", name = \"conv2d_1\"),\n",
        "            tf.keras.layers.BatchNormalization(name = \"batch_normalization_1\"),\n",
        "            tf.keras.layers.Activation(\"relu\", name = \"activation_relu_1\"),\n",
        "            tf.keras.layers.MaxPooling2D(pool_size = (2, 2), name = \"max_pooling2d_1\"),\n",
        "            tf.keras.layers.Dropout(0.25, name = \"dropout_1\"),\n",
        "\n",
        "            tf.keras.layers.Conv2D(filters = 64, kernel_size = (3, 3), strides = (1, 1), padding = \"same\", name = \"conv2d_2\"),\n",
        "            tf.keras.layers.BatchNormalization(name = \"batch_normalization_2\"),\n",
        "            tf.keras.layers.Activation(\"relu\", name = \"activation_relu_2\"),\n",
        "            tf.keras.layers.MaxPooling2D(pool_size = (2, 2), name = \"max_pooling2d_2\"),\n",
        "            tf.keras.layers.Dropout(0.25, name = \"dropout_2\"),\n",
        "\n",
        "            tf.keras.layers.Conv2D(filters = 32, kernel_size = (3, 3), strides = (1, 1), padding = \"same\", name = \"conv2d_3\"),\n",
        "            tf.keras.layers.BatchNormalization(name = \"batch_normalization_3\"),\n",
        "            tf.keras.layers.Activation(\"relu\", name = \"activation_relu_3\"),\n",
        "            tf.keras.layers.MaxPooling2D(pool_size = (2, 2), name = \"max_pooling2d_3\"),\n",
        "\n",
        "            tf.keras.layers.Dropout(0.5, name = \"dropout_3\"),\n",
        "            tf.keras.layers.Flatten(name = \"flatten\"),\n",
        "            tf.keras.layers.Dense(32, activation = \"relu\", kernel_regularizer = regularizers.l2(l2 = 0.001), name = \"dense_1\"),\n",
        "                #kernel_regularizer = regularizers.l1_l2(l1 = 1e-5, l2 = 1e-4),\n",
        "                #bias_regularizer = regularizers.l2(1e-4),\n",
        "                #activity_regularizer = regularizers.l2(1e-5)),\n",
        "            tf.keras.layers.Dropout(0.5, name = \"dropout_4\"),\n",
        "            tf.keras.layers.Dense(64, activation = \"relu\", kernel_regularizer = regularizers.l2(l2 = 0.001), name = \"dense_2\"),\n",
        "                #kernel_regularizer = regularizers.l1_l2(l1 = 1e-5, l2 = 1e-4),\n",
        "                #bias_regularizer = regularizers.l2(1e-4),\n",
        "                #activity_regularizer = regularizers.l2(1e-5)),\n",
        "            tf.keras.layers.Dense(1, activation = \"sigmoid\", name = \"dense_3\"),\n",
        "        ]\n",
        "    )\n",
        "\n",
        "    model.compile(\n",
        "        optimizer = SGD(learning_rate = 0.01, momentum = 0.5, decay = 0.0, nesterov = False),\n",
        "        loss = \"binary_crossentropy\",\n",
        "        metrics = [\"acc\"]\n",
        "    )\n",
        "    return model, description\n",
        "\n",
        "print(\"DONE\")"
      ]
    },
    {
      "cell_type": "markdown",
      "metadata": {
        "id": "NeYZrOXJPkps"
      },
      "source": [
        "# CNN_fit_eval_pred function"
      ]
    },
    {
      "cell_type": "code",
      "execution_count": null,
      "metadata": {
        "colab": {
          "base_uri": "https://localhost:8080/"
        },
        "id": "z8sgxdt_Pkps",
        "outputId": "4ba5edc1-40f7-4d4d-ae99-553b3e1c9c4b"
      },
      "outputs": [
        {
          "output_type": "stream",
          "name": "stdout",
          "text": [
            "DONE\n"
          ]
        }
      ],
      "source": [
        "def CNN_fit_eval_pred(x, y, data_name, kfold = True, patience = 10000):\n",
        "    # patience: Number of epochs with no improvement after which training will be stopped.\n",
        "    # 10000 means in fact that early stopping will not take place.\n",
        "    best_model_score_validate = []\n",
        "    best_model_score_test = []\n",
        "\n",
        "    # Extract test data\n",
        "    # random_state used to make the results repeatable\n",
        "    x2, x_test, y2, y_test = train_test_split(x, y, test_size = 0.2, shuffle = True, random_state = SEED)\n",
        "    folds = list(StratifiedKFold(n_splits = 5, shuffle = True, random_state = SEED).split(x2, y2))\n",
        "\n",
        "    if kfold:\n",
        "        n = len(folds)\n",
        "    else:\n",
        "        n = 1\n",
        "\n",
        "    # Remove extension filename\n",
        "    data_name_no_ext = os.path.splitext(data_name)[0]\n",
        "    results_str = WRK_DIR + \"results/results_\" + data_name_no_ext + \".txt\"\n",
        "\n",
        "    # New version, if kfold parameter IS supported\n",
        "    for fold_number in range(n):\n",
        "        print(\"Fold: \", fold_number)\n",
        "        print(time.strftime(\"%d-%m-%Y %H:%M:%S\", time.localtime()))\n",
        "        x_train_cv = x2[folds[fold_number][0]]\n",
        "        y_train_cv = y2[folds[fold_number][0]]\n",
        "        x_validate_cv = x2[folds[fold_number][1]]\n",
        "        y_validate_cv = y2[folds[fold_number][1]]\n",
        "\n",
        "    # Old version, if kfold parameter WAS NOT supported\n",
        "    #for fold_number, (train_idx, validate_idx) in enumerate(folds):\n",
        "        #print(\"Fold: \", fold_number)\n",
        "        #print(time.strftime(\"%d-%m-%Y %H:%M:%S\", time.localtime()))\n",
        "        #x_train_cv = x2[train_idx]\n",
        "        #y_train_cv = y2[train_idx]\n",
        "        #x_validate_cv = x2[validate_idx]\n",
        "        #y_validate_cv = y2[validate_idx]\n",
        "\n",
        "        f = open(results_str, \"a\")\n",
        "\n",
        "        if fold_number == 0:\n",
        "            print(\"x_train_cv:\", x_train_cv.shape, \"\\nx_validate_cv:\", x_validate_cv.shape, \"\\nx_test:\", x_test.shape, file = f)\n",
        "            print(\"y_train_cv:\", y_train_cv.shape, \"\\ny_validate_cv:\", y_validate_cv.shape, \"\\ny_test:\", y_test.shape, file = f)\n",
        "            print(\"\\n\", file = f)\n",
        "\n",
        "        print(\"\\nFold: \", fold_number, file = f)\n",
        "\n",
        "        f.close()\n",
        "\n",
        "        my_shape = np.expand_dims(x, axis = 3).shape\n",
        "        my_shape[1:]\n",
        "        model, model_description = build_CNN_model(my_shape)\n",
        "\n",
        "        #####################################################################\n",
        "        # add dimmension for conv2d\n",
        "        #####################################################################\n",
        "        x_train_3d = x_train_cv\n",
        "        x_train_3d = np.expand_dims(x_train_3d, axis = 3)\n",
        "\n",
        "        x_validate_3d = x_validate_cv\n",
        "        x_validate_3d = np.expand_dims(x_validate_3d, axis = 3)\n",
        "\n",
        "        x_test_3d = x_test\n",
        "        x_test_3d = np.expand_dims(x_test_3d, axis = 3)\n",
        "\n",
        "        # Creat list of callbacks\n",
        "        # https://machinelearningmastery.com/using-learning-rate-schedules-deep-learning-models-python-keras/\n",
        "        # Drop-Based Learning Rate Schedule\n",
        "        def drop_based_step_decay(epoch):\n",
        "            # epoch is the current epoch number\n",
        "            initial_lrate = 0.1\n",
        "            drop = 0.75  # the amount that the learning rate is modified each time it is changed\n",
        "            epochs_drop = 10.0 # how often to change the learning rate\n",
        "            lrate = initial_lrate * math.pow(drop, math.floor((1 + epoch) / epochs_drop))\n",
        "            return lrate\n",
        "\n",
        "        # Time-Based Learning Rate Schedule\n",
        "        def time_based_step_decay(epoch):\n",
        "            initial_lrate = 0.1\n",
        "            decay = 0.1\n",
        "            lrate = initial_lrate * 1 / (1 + decay * epoch)\n",
        "            return lrate\n",
        "\n",
        "        best_model_str = WRK_DIR + \"best_models/best_model_{}_fold_{}.hdf5\".format(data_name_no_ext, fold_number)\n",
        "        best_model_str_2 = \"best_model_{}_fold_{}.hdf5\".format(data_name_no_ext, fold_number)\n",
        "        TensorBoard_log = WRK_DIR + \"logs/TensorBoard_log_{}_fold_{}\".format(data_name_no_ext, fold_number)\n",
        "        history_csv_str = WRK_DIR + \"hists/history_{}_fold_{}.csv\".format(data_name_no_ext, fold_number)\n",
        "        history_pickle_str = WRK_DIR + \"hists/history_{}_fold_{}.pckl\".format(data_name_no_ext, fold_number)\n",
        "\n",
        "\n",
        "        callbacks = [\n",
        "            # patience: Number of epochs with no improvement after which training will be stopped\n",
        "            tf.keras.callbacks.EarlyStopping(monitor = \"val_acc\", patience = patience, verbose = 1),\n",
        "            # If L1 or L2 or L1/L2 is used, LearningRateScheduler works not so good\n",
        "            # tf.keras.callbacks.LearningRateScheduler(drop_based_step_decay),\n",
        "            # tf.keras.callbacks.LearningRateScheduler(time_based_step_decay),\n",
        "            tf.keras.callbacks.ModelCheckpoint(\n",
        "                filepath = best_model_str,\n",
        "                monitor = \"val_acc\",\n",
        "                save_best_only = True),\n",
        "            tf.keras.callbacks.TensorBoard(\n",
        "                log_dir = TensorBoard_log,\n",
        "                histogram_freq = 0,  # it has to be 0, otherwise throws error during training\n",
        "                write_graph = True,\n",
        "                write_images = True,\n",
        "            )\n",
        "            ]\n",
        "\n",
        "        # Training time\n",
        "        start = time.time()\n",
        "\n",
        "        if GOOGLE_COLAB:\n",
        "            # Read GPU ID\n",
        "            gpu_info = !nvidia-smi -L\n",
        "\n",
        "        history = model.fit(\n",
        "            x_train_3d,\n",
        "            y_train_cv,\n",
        "            epochs = 300,\n",
        "            batch_size = 16,\n",
        "            callbacks = callbacks,\n",
        "            validation_data = (x_validate_3d, y_validate_cv),\n",
        "            verbose = 1,\n",
        "        )\n",
        "\n",
        "        end = time.time()\n",
        "\n",
        "        # Convert the history.history dict to a pandas DataFrame.\n",
        "        history_df = pd.DataFrame(history.history)\n",
        "        with open(history_csv_str, mode = 'w') as ff:\n",
        "            history_df.to_csv(ff)\n",
        "            ff.close()\n",
        "\n",
        "        with open(history_pickle_str, 'wb') as ff:\n",
        "            pickle.dump(history.history, ff)\n",
        "            ff.close()\n",
        "\n",
        "        f = open(results_str, \"a\")\n",
        "\n",
        "        print(\"Time: \", int(end - start) // 60, \"m \", int(end - start) % 60,  \"s\", sep = \"\", file = f)\n",
        "\n",
        "        if GOOGLE_COLAB:\n",
        "            print(gpu_info, file = f)\n",
        "\n",
        "        print(best_model_str_2, file = f)\n",
        "\n",
        "        # Loading the weights of the best model and checking its effectiveness (validate and test data).\n",
        "        model.load_weights(best_model_str)\n",
        "        best_model_score_validate.append(model.evaluate(x_validate_3d, y_validate_cv, batch_size = 16, verbose = 0))\n",
        "        print(\"--Best model validation accuracy: %.2f%%\" % (best_model_score_validate[fold_number][1] * 100), file = f)\n",
        "\n",
        "        best_model_score_test.append(model.evaluate(x_test_3d, y_test, batch_size = 16, verbose = 0))\n",
        "        print(\"--Best model test accuracy: %.2f%%\" % (best_model_score_test[fold_number][1] * 100), file = f)\n",
        "\n",
        "        # Confusion matrix & stuff\n",
        "        mpl.rcParams['figure.figsize'] = (10, 10)\n",
        "        colors = plt.rcParams['axes.prop_cycle'].by_key()['color']\n",
        "        predictions = model.predict(x_test_3d, verbose = 1)\n",
        "        name = data_name_no_ext + '_fold_' + str(fold_number) + \".png\"\n",
        "        plot_roc_curve(name, y_test, predictions, save_to_file = True, color = colors[0])\n",
        "        print('Confusion matrix:', file = f)\n",
        "        cm = confusion_matrix(y_test, predictions > 0.5)\n",
        "        cmdf = pd.DataFrame(\n",
        "            confusion_matrix(y_test, predictions > 0.5, labels = [0, 1]),\n",
        "            index = ['true: seizure', 'true: no seizure'],\n",
        "            columns = ['pred: seizure', 'pred: no seizure']\n",
        "        )\n",
        "        print(cmdf, file = f)\n",
        "        precision = cm[0, 0] / (cm[0, 0] + cm[1, 0])\n",
        "        recall = cm[0, 0] / (cm[0, 0] + cm[0, 1])\n",
        "        F_measure = 2 * ((precision * recall) / (precision + recall))\n",
        "        out = 'Precision: ' + str(round(precision, 2))\n",
        "        print(out, file = f)\n",
        "        out = 'Recall: ' + str(round(recall, 2))\n",
        "        print(out, file = f)\n",
        "        out = 'F-measure: ' + str(round(F_measure, 2))\n",
        "        print(out, file = f)\n",
        "\n",
        "        f.close()\n",
        "\n",
        "        accuracy_validate = [row[1] for row in best_model_score_validate]\n",
        "        accuracy_test = [row[1] for row in best_model_score_test]\n",
        "\n",
        "    avg_accuracy_validate = np.mean(accuracy_validate)\n",
        "    avg_accuracy_test = np.mean(accuracy_test)\n",
        "\n",
        "    f = open(results_str, \"a\")\n",
        "\n",
        "    print(\"\\n--Best models AVARAGE validation accuracy: %.2f%%\" % (avg_accuracy_validate * 100), file = f)\n",
        "    print(\"--Best models AVARAGE test accuracy: %.2f%%\" % (avg_accuracy_test * 100), file = f)\n",
        "\n",
        "    print(\"\\n\", file = f)\n",
        "\n",
        "    f.close()\n",
        "\n",
        "print(\"DONE\")"
      ]
    },
    {
      "cell_type": "markdown",
      "metadata": {
        "id": "ykRN-gieEV4A"
      },
      "source": [
        "# plot_* functions"
      ]
    },
    {
      "cell_type": "code",
      "execution_count": null,
      "metadata": {
        "colab": {
          "base_uri": "https://localhost:8080/"
        },
        "id": "hKlEnjkrEVbW",
        "outputId": "af1468a9-ba0c-412b-fdda-e4030e61c5d3"
      },
      "outputs": [
        {
          "output_type": "stream",
          "name": "stdout",
          "text": [
            "DONE\n"
          ]
        }
      ],
      "source": [
        "def plot_roc_curve(name, labels, predictions, save_to_file = False, **kwargs):\n",
        "    fp, tp, _ = sklearn.metrics.roc_curve(labels, predictions, pos_label = 1, drop_intermediate = False)\n",
        "    auc_score = roc_auc_score(labels, predictions)\n",
        "    auc_score_text = 'AUC = ' + str(round(auc_score, 2))\n",
        "    plt.plot(100 * fp, 100 * tp, label = name, linewidth = 2, **kwargs)\n",
        "    plt.xlabel('False positives [%]')\n",
        "    plt.ylabel('True positives [%]')\n",
        "    plt.xlim([-1, 101])\n",
        "    plt.ylim([-1, 101])\n",
        "    plt.grid(True)\n",
        "    ax = plt.gca()\n",
        "    ax.set_aspect('equal')\n",
        "    plt.legend(loc='lower right')\n",
        "    plt.text(60, 20, auc_score_text, fontsize = 22)\n",
        "    fig_str = WRK_DIR + \"ROC/ROC_\" + name\n",
        "    if save_to_file:\n",
        "        plt.savefig(fig_str)\n",
        "        plt.clf()\n",
        "\n",
        "\n",
        "def plot_pr_curve(name, labels, predictions, save_to_file = False, **kwargs):\n",
        "    precision, recall, _ = sklearn.metrics.precision_recall_curve(labels, predictions, pos_label = 1)\n",
        "    plt.plot(precision, recall, label = name, linewidth = 2, **kwargs)\n",
        "    plt.xlabel('Recall')\n",
        "    plt.ylabel('Precision')\n",
        "    plt.xlim([-0.1, 1.1])\n",
        "    plt.ylim([-0.1, 1.1])\n",
        "    plt.grid(True)\n",
        "    ax = plt.gca()\n",
        "    ax.set_aspect('equal')\n",
        "    plt.legend(loc='lower right')\n",
        "    fig_str = WRK_DIR + \"ROC/PR_\" + name\n",
        "    if save_to_file:\n",
        "        plt.savefig(fig_str)\n",
        "        plt.clf()\n",
        "\n",
        "def plot_acc_loss(file_name, history, title = \"\", save_to_file = False):\n",
        "    fig, (ax1, ax2) = plt.subplots(2)\n",
        "    fig.set_size_inches(8, 8)\n",
        "\n",
        "    acc = history[\"acc\"]\n",
        "    val_acc = history[\"val_acc\"]\n",
        "    loss = history[\"loss\"]\n",
        "    val_loss = history[\"val_loss\"]\n",
        "    epochs = range(1, len(acc) + 1)\n",
        "\n",
        "    ax1.grid(True)\n",
        "    ax1.plot(epochs, acc, \"r\", label = \"Training acc\")\n",
        "    ax1.plot(epochs, val_acc, \"b\", label = \"Validation acc\")\n",
        "    ax1.set_title(title + \"\\nTraining and validation accuracy\")\n",
        "    ax1.set(xlabel = 'Epochs', ylabel = 'Accuracy')\n",
        "    ax1.legend()\n",
        "\n",
        "    ax2.grid(True)\n",
        "    ax2.plot(epochs, loss, \"r\", label = \"Training loss\")\n",
        "    ax2.plot(epochs, val_loss, \"b\", label = \"Validation loss\")\n",
        "    ax2.set_title(\"Training and validation loss\")\n",
        "    ax2.set(xlabel = 'Epochs', ylabel = 'Loss')\n",
        "    ax2.legend()\n",
        "\n",
        "    fig.tight_layout()\n",
        "    if save_to_file:\n",
        "        fig_str = WRK_DIR + \"acc_loss/acc_loss_\" + file_name\n",
        "        plt.savefig(fig_str)\n",
        "        plt.clf()\n",
        "\n",
        "print(\"DONE\")"
      ]
    },
    {
      "cell_type": "markdown",
      "metadata": {
        "id": "oUjb1sJQio-Z"
      },
      "source": [
        "# Checking if all HDF5 files are readable"
      ]
    },
    {
      "cell_type": "code",
      "execution_count": null,
      "metadata": {
        "id": "QROtqdFmQw1X",
        "colab": {
          "base_uri": "https://localhost:8080/"
        },
        "outputId": "d2209778-bf85-4983-8619-43a00acabc81"
      },
      "outputs": [
        {
          "output_type": "stream",
          "name": "stdout",
          "text": [
            "1 expert_A_1sec_1chunk_64Hz.hdf5 --> OK\n"
          ]
        }
      ],
      "source": [
        "freq = FREQ\n",
        "\n",
        "if COMPLETE_CALCULATIONS:\n",
        "    which_expert = np.array ([\"A\", \"B\", \"C\"])\n",
        "    windows = [1, 2, 5, 10, 20]\n",
        "    chunks = [1, 2, 5, 10, 20, 10000]\n",
        "else:\n",
        "    which_expert = np.array ([\"A\"])\n",
        "    windows = [1]\n",
        "    chunks = [1]\n",
        "\n",
        "i = 1\n",
        "for we in which_expert:\n",
        "    for w in windows:\n",
        "        for c in chunks:\n",
        "            x, y, data_name = read_data(freq = FREQ, which_expert = we, window = w, chunks = c, print_to_file = False)\n",
        "            data_name = \"expert_{}_{}sec_{}chunk_{}Hz.hdf5\".format(we, w, c, freq)\n",
        "            print(i, data_name, '--> OK')\n",
        "            i = i + 1"
      ]
    },
    {
      "cell_type": "markdown",
      "metadata": {
        "id": "JJsEjg8sPkpt"
      },
      "source": [
        "# \\_\\_Run\\_\\_\n",
        "\n",
        "Change `windows` and `chunks` for the desired values.\n",
        "\n",
        "In the paper the following values have been used: `windows = [1, 2, 5, 10, 20] ` and `chunks = [1, 2, 5, 10, 20, 10000]`.\n",
        "\n",
        "As a trial, we suggest that you enter `windows = [1]`, `chunks = [1]` and `which_expert = np.array ([\"A\"])` at the beginning.\n"
      ]
    },
    {
      "cell_type": "code",
      "execution_count": null,
      "metadata": {
        "id": "l4575i-9Pkpt",
        "colab": {
          "base_uri": "https://localhost:8080/",
          "height": 1000
        },
        "outputId": "878e9782-591a-4057-8eee-e3a92d94f16b"
      },
      "outputs": [
        {
          "output_type": "stream",
          "name": "stdout",
          "text": [
            "expert_A_1sec_1chunk_64Hz.hdf5\n",
            "(781, 64, 18)\n",
            "(781,)\n",
            "Fold:  0\n",
            "20-04-2022 08:11:26\n",
            "Epoch 1/300\n",
            "32/32 [==============================] - 15s 115ms/step - loss: 0.8771 - acc: 0.4910 - val_loss: 0.7940 - val_acc: 0.5200\n",
            "Epoch 2/300\n",
            "32/32 [==============================] - 1s 16ms/step - loss: 0.8185 - acc: 0.5471 - val_loss: 0.7942 - val_acc: 0.5040\n",
            "Epoch 3/300\n",
            "32/32 [==============================] - 0s 15ms/step - loss: 0.8276 - acc: 0.4790 - val_loss: 0.7934 - val_acc: 0.5200\n",
            "Epoch 4/300\n",
            "32/32 [==============================] - 1s 16ms/step - loss: 0.7915 - acc: 0.5291 - val_loss: 0.7933 - val_acc: 0.5200\n",
            "Epoch 5/300\n",
            "32/32 [==============================] - 0s 15ms/step - loss: 0.7997 - acc: 0.5471 - val_loss: 0.7926 - val_acc: 0.5200\n",
            "Epoch 6/300\n",
            "32/32 [==============================] - 1s 16ms/step - loss: 0.7805 - acc: 0.5631 - val_loss: 0.7916 - val_acc: 0.5200\n",
            "Epoch 7/300\n",
            "32/32 [==============================] - 0s 15ms/step - loss: 0.8047 - acc: 0.5210 - val_loss: 0.7924 - val_acc: 0.5120\n",
            "Epoch 8/300\n",
            "32/32 [==============================] - 1s 16ms/step - loss: 0.7935 - acc: 0.5411 - val_loss: 0.7913 - val_acc: 0.5200\n",
            "Epoch 9/300\n",
            "32/32 [==============================] - 1s 16ms/step - loss: 0.7884 - acc: 0.5291 - val_loss: 0.7919 - val_acc: 0.5120\n",
            "Epoch 10/300\n",
            "32/32 [==============================] - 0s 15ms/step - loss: 0.8118 - acc: 0.4830 - val_loss: 0.7910 - val_acc: 0.5200\n",
            "Epoch 11/300\n",
            "32/32 [==============================] - 0s 15ms/step - loss: 0.7982 - acc: 0.5170 - val_loss: 0.7911 - val_acc: 0.5200\n",
            "Epoch 12/300\n",
            "32/32 [==============================] - 0s 15ms/step - loss: 0.7910 - acc: 0.5190 - val_loss: 0.7910 - val_acc: 0.5200\n",
            "Epoch 13/300\n",
            "32/32 [==============================] - 1s 16ms/step - loss: 0.7938 - acc: 0.5311 - val_loss: 0.7902 - val_acc: 0.5200\n",
            "Epoch 14/300\n",
            "32/32 [==============================] - 1s 16ms/step - loss: 0.7797 - acc: 0.5591 - val_loss: 0.7896 - val_acc: 0.5200\n",
            "Epoch 15/300\n",
            "32/32 [==============================] - 1s 16ms/step - loss: 0.7894 - acc: 0.5591 - val_loss: 0.7893 - val_acc: 0.5200\n",
            "Epoch 16/300\n",
            "32/32 [==============================] - 1s 16ms/step - loss: 0.7908 - acc: 0.5431 - val_loss: 0.7919 - val_acc: 0.5200\n",
            "Epoch 17/300\n",
            "32/32 [==============================] - 0s 15ms/step - loss: 0.7911 - acc: 0.5230 - val_loss: 0.7920 - val_acc: 0.5200\n",
            "Epoch 18/300\n",
            "32/32 [==============================] - 1s 29ms/step - loss: 0.7835 - acc: 0.5772 - val_loss: 0.7902 - val_acc: 0.5280\n",
            "Epoch 19/300\n",
            "32/32 [==============================] - 0s 15ms/step - loss: 0.7874 - acc: 0.5150 - val_loss: 0.7880 - val_acc: 0.5200\n",
            "Epoch 20/300\n",
            "32/32 [==============================] - 1s 19ms/step - loss: 0.7907 - acc: 0.5331 - val_loss: 0.7846 - val_acc: 0.5440\n",
            "Epoch 21/300\n",
            "32/32 [==============================] - 1s 19ms/step - loss: 0.7777 - acc: 0.5551 - val_loss: 0.7804 - val_acc: 0.5520\n",
            "Epoch 22/300\n",
            "32/32 [==============================] - 0s 15ms/step - loss: 0.7864 - acc: 0.5611 - val_loss: 0.7837 - val_acc: 0.5520\n",
            "Epoch 23/300\n",
            "32/32 [==============================] - 1s 16ms/step - loss: 0.7723 - acc: 0.5471 - val_loss: 0.7808 - val_acc: 0.5520\n",
            "Epoch 24/300\n",
            "32/32 [==============================] - 1s 19ms/step - loss: 0.7827 - acc: 0.5491 - val_loss: 0.7811 - val_acc: 0.5760\n",
            "Epoch 25/300\n",
            "32/32 [==============================] - 1s 16ms/step - loss: 0.7821 - acc: 0.5551 - val_loss: 0.7789 - val_acc: 0.5760\n",
            "Epoch 26/300\n",
            "32/32 [==============================] - 0s 15ms/step - loss: 0.7823 - acc: 0.5451 - val_loss: 0.7777 - val_acc: 0.5760\n",
            "Epoch 27/300\n",
            "32/32 [==============================] - 0s 16ms/step - loss: 0.7622 - acc: 0.5872 - val_loss: 0.7768 - val_acc: 0.5600\n",
            "Epoch 28/300\n",
            "32/32 [==============================] - 0s 15ms/step - loss: 0.7788 - acc: 0.5711 - val_loss: 0.7797 - val_acc: 0.5680\n",
            "Epoch 29/300\n",
            "32/32 [==============================] - 0s 15ms/step - loss: 0.7668 - acc: 0.5671 - val_loss: 0.7764 - val_acc: 0.5760\n",
            "Epoch 30/300\n",
            "32/32 [==============================] - 1s 20ms/step - loss: 0.7652 - acc: 0.5691 - val_loss: 0.7749 - val_acc: 0.5760\n",
            "Epoch 31/300\n",
            "32/32 [==============================] - 0s 15ms/step - loss: 0.7561 - acc: 0.5932 - val_loss: 0.7743 - val_acc: 0.5600\n",
            "Epoch 32/300\n",
            "32/32 [==============================] - 0s 15ms/step - loss: 0.7657 - acc: 0.5631 - val_loss: 0.7653 - val_acc: 0.5520\n",
            "Epoch 33/300\n",
            "32/32 [==============================] - 1s 16ms/step - loss: 0.7709 - acc: 0.5832 - val_loss: 0.7664 - val_acc: 0.5760\n",
            "Epoch 34/300\n",
            "32/32 [==============================] - 0s 15ms/step - loss: 0.7666 - acc: 0.5932 - val_loss: 0.7676 - val_acc: 0.5600\n",
            "Epoch 35/300\n",
            "32/32 [==============================] - 0s 15ms/step - loss: 0.7539 - acc: 0.5892 - val_loss: 0.7666 - val_acc: 0.5600\n",
            "Epoch 36/300\n",
            "32/32 [==============================] - 0s 15ms/step - loss: 0.7716 - acc: 0.5711 - val_loss: 0.7682 - val_acc: 0.5680\n",
            "Epoch 37/300\n",
            "32/32 [==============================] - 0s 15ms/step - loss: 0.7521 - acc: 0.6072 - val_loss: 0.7699 - val_acc: 0.5440\n",
            "Epoch 38/300\n",
            "32/32 [==============================] - 1s 18ms/step - loss: 0.7496 - acc: 0.6152 - val_loss: 0.7682 - val_acc: 0.5840\n",
            "Epoch 39/300\n",
            "32/32 [==============================] - 0s 15ms/step - loss: 0.7618 - acc: 0.5792 - val_loss: 0.7649 - val_acc: 0.5600\n",
            "Epoch 40/300\n",
            "32/32 [==============================] - 0s 15ms/step - loss: 0.7519 - acc: 0.6052 - val_loss: 0.7599 - val_acc: 0.5520\n",
            "Epoch 41/300\n",
            "32/32 [==============================] - 0s 15ms/step - loss: 0.7484 - acc: 0.6172 - val_loss: 0.7644 - val_acc: 0.5680\n",
            "Epoch 42/300\n",
            "32/32 [==============================] - 1s 18ms/step - loss: 0.7489 - acc: 0.5872 - val_loss: 0.7742 - val_acc: 0.5920\n",
            "Epoch 43/300\n",
            "32/32 [==============================] - 0s 15ms/step - loss: 0.7288 - acc: 0.6413 - val_loss: 0.7644 - val_acc: 0.5760\n",
            "Epoch 44/300\n",
            "32/32 [==============================] - 0s 15ms/step - loss: 0.7480 - acc: 0.5912 - val_loss: 0.7601 - val_acc: 0.5760\n",
            "Epoch 45/300\n",
            "32/32 [==============================] - 1s 16ms/step - loss: 0.7391 - acc: 0.6192 - val_loss: 0.7605 - val_acc: 0.5840\n",
            "Epoch 46/300\n",
            "32/32 [==============================] - 0s 16ms/step - loss: 0.7415 - acc: 0.5992 - val_loss: 0.7699 - val_acc: 0.5440\n",
            "Epoch 47/300\n",
            "32/32 [==============================] - 1s 19ms/step - loss: 0.7361 - acc: 0.6072 - val_loss: 0.7549 - val_acc: 0.6000\n",
            "Epoch 48/300\n",
            "32/32 [==============================] - 1s 16ms/step - loss: 0.7224 - acc: 0.6393 - val_loss: 0.7583 - val_acc: 0.5840\n",
            "Epoch 49/300\n",
            "32/32 [==============================] - 0s 15ms/step - loss: 0.7298 - acc: 0.6092 - val_loss: 0.7563 - val_acc: 0.5840\n",
            "Epoch 50/300\n",
            "32/32 [==============================] - 0s 15ms/step - loss: 0.7208 - acc: 0.6393 - val_loss: 0.7535 - val_acc: 0.5760\n",
            "Epoch 51/300\n",
            "32/32 [==============================] - 0s 15ms/step - loss: 0.7118 - acc: 0.6393 - val_loss: 0.7519 - val_acc: 0.5680\n",
            "Epoch 52/300\n",
            "32/32 [==============================] - 0s 16ms/step - loss: 0.7189 - acc: 0.6192 - val_loss: 0.7509 - val_acc: 0.5600\n",
            "Epoch 53/300\n",
            "32/32 [==============================] - 0s 15ms/step - loss: 0.7097 - acc: 0.6473 - val_loss: 0.7685 - val_acc: 0.5760\n",
            "Epoch 54/300\n",
            "32/32 [==============================] - 0s 14ms/step - loss: 0.7227 - acc: 0.6273 - val_loss: 0.7580 - val_acc: 0.5920\n",
            "Epoch 55/300\n",
            "32/32 [==============================] - 0s 15ms/step - loss: 0.7122 - acc: 0.6633 - val_loss: 0.7591 - val_acc: 0.5760\n",
            "Epoch 56/300\n",
            "32/32 [==============================] - 0s 14ms/step - loss: 0.7102 - acc: 0.6333 - val_loss: 0.7594 - val_acc: 0.5600\n",
            "Epoch 57/300\n",
            "32/32 [==============================] - 0s 14ms/step - loss: 0.7276 - acc: 0.6453 - val_loss: 0.7622 - val_acc: 0.5360\n",
            "Epoch 58/300\n",
            "32/32 [==============================] - 0s 15ms/step - loss: 0.7293 - acc: 0.6353 - val_loss: 0.7644 - val_acc: 0.6000\n",
            "Epoch 59/300\n",
            "32/32 [==============================] - 0s 15ms/step - loss: 0.7082 - acc: 0.6493 - val_loss: 0.7460 - val_acc: 0.5840\n",
            "Epoch 60/300\n",
            "32/32 [==============================] - 0s 15ms/step - loss: 0.6876 - acc: 0.6733 - val_loss: 0.7451 - val_acc: 0.5920\n",
            "Epoch 61/300\n",
            "32/32 [==============================] - 0s 15ms/step - loss: 0.6984 - acc: 0.6593 - val_loss: 0.7701 - val_acc: 0.5840\n",
            "Epoch 62/300\n",
            "32/32 [==============================] - 1s 16ms/step - loss: 0.6978 - acc: 0.6373 - val_loss: 0.7497 - val_acc: 0.5440\n",
            "Epoch 63/300\n",
            "32/32 [==============================] - 0s 16ms/step - loss: 0.7087 - acc: 0.6453 - val_loss: 0.7461 - val_acc: 0.5600\n",
            "Epoch 64/300\n",
            "32/32 [==============================] - 0s 15ms/step - loss: 0.6845 - acc: 0.6673 - val_loss: 0.7554 - val_acc: 0.6000\n",
            "Epoch 65/300\n",
            "32/32 [==============================] - 0s 15ms/step - loss: 0.7090 - acc: 0.6693 - val_loss: 0.7484 - val_acc: 0.5680\n",
            "Epoch 66/300\n",
            "32/32 [==============================] - 0s 15ms/step - loss: 0.6815 - acc: 0.6934 - val_loss: 0.7631 - val_acc: 0.5760\n",
            "Epoch 67/300\n",
            "32/32 [==============================] - 0s 15ms/step - loss: 0.6918 - acc: 0.6453 - val_loss: 0.7469 - val_acc: 0.5920\n",
            "Epoch 68/300\n",
            "32/32 [==============================] - 0s 15ms/step - loss: 0.6798 - acc: 0.6754 - val_loss: 0.7552 - val_acc: 0.5600\n",
            "Epoch 69/300\n",
            "32/32 [==============================] - 0s 14ms/step - loss: 0.6978 - acc: 0.6493 - val_loss: 0.7493 - val_acc: 0.5600\n",
            "Epoch 70/300\n",
            "32/32 [==============================] - 1s 27ms/step - loss: 0.6659 - acc: 0.7074 - val_loss: 0.7689 - val_acc: 0.6080\n",
            "Epoch 71/300\n",
            "32/32 [==============================] - 0s 15ms/step - loss: 0.6689 - acc: 0.6774 - val_loss: 0.7846 - val_acc: 0.5360\n",
            "Epoch 72/300\n",
            "32/32 [==============================] - 1s 16ms/step - loss: 0.6508 - acc: 0.6954 - val_loss: 0.7806 - val_acc: 0.5840\n",
            "Epoch 73/300\n",
            "32/32 [==============================] - 0s 14ms/step - loss: 0.7033 - acc: 0.6573 - val_loss: 0.7425 - val_acc: 0.5760\n",
            "Epoch 74/300\n",
            "32/32 [==============================] - 0s 15ms/step - loss: 0.6587 - acc: 0.6854 - val_loss: 0.7658 - val_acc: 0.5840\n",
            "Epoch 75/300\n",
            "32/32 [==============================] - 0s 15ms/step - loss: 0.6757 - acc: 0.6874 - val_loss: 0.7688 - val_acc: 0.5920\n",
            "Epoch 76/300\n",
            "32/32 [==============================] - 0s 15ms/step - loss: 0.6747 - acc: 0.6593 - val_loss: 0.7675 - val_acc: 0.5760\n",
            "Epoch 77/300\n",
            "32/32 [==============================] - 1s 16ms/step - loss: 0.6335 - acc: 0.7114 - val_loss: 0.7581 - val_acc: 0.5920\n",
            "Epoch 78/300\n",
            "32/32 [==============================] - 0s 15ms/step - loss: 0.6521 - acc: 0.6814 - val_loss: 0.7917 - val_acc: 0.5760\n",
            "Epoch 79/300\n",
            "32/32 [==============================] - 0s 14ms/step - loss: 0.6685 - acc: 0.6954 - val_loss: 0.7587 - val_acc: 0.5760\n",
            "Epoch 80/300\n",
            "32/32 [==============================] - 0s 15ms/step - loss: 0.6403 - acc: 0.7034 - val_loss: 0.7845 - val_acc: 0.6080\n",
            "Epoch 81/300\n",
            "32/32 [==============================] - 0s 15ms/step - loss: 0.6154 - acc: 0.7395 - val_loss: 0.7747 - val_acc: 0.5840\n",
            "Epoch 82/300\n",
            "32/32 [==============================] - 1s 16ms/step - loss: 0.6550 - acc: 0.6994 - val_loss: 0.8214 - val_acc: 0.5680\n",
            "Epoch 83/300\n",
            "32/32 [==============================] - 0s 15ms/step - loss: 0.6500 - acc: 0.6814 - val_loss: 0.7573 - val_acc: 0.5920\n",
            "Epoch 84/300\n",
            "32/32 [==============================] - 1s 16ms/step - loss: 0.6473 - acc: 0.6974 - val_loss: 0.7398 - val_acc: 0.5840\n",
            "Epoch 85/300\n",
            "32/32 [==============================] - 0s 14ms/step - loss: 0.6518 - acc: 0.7094 - val_loss: 0.7808 - val_acc: 0.5680\n",
            "Epoch 86/300\n",
            "32/32 [==============================] - 0s 15ms/step - loss: 0.6247 - acc: 0.7094 - val_loss: 0.8486 - val_acc: 0.5680\n",
            "Epoch 87/300\n",
            "32/32 [==============================] - 0s 16ms/step - loss: 0.6128 - acc: 0.7154 - val_loss: 0.7894 - val_acc: 0.5520\n",
            "Epoch 88/300\n",
            "32/32 [==============================] - 1s 16ms/step - loss: 0.6243 - acc: 0.6954 - val_loss: 0.8272 - val_acc: 0.5680\n",
            "Epoch 89/300\n",
            "32/32 [==============================] - 0s 15ms/step - loss: 0.5955 - acc: 0.7214 - val_loss: 0.7904 - val_acc: 0.5920\n",
            "Epoch 90/300\n",
            "32/32 [==============================] - 0s 15ms/step - loss: 0.6189 - acc: 0.7255 - val_loss: 0.7468 - val_acc: 0.6000\n",
            "Epoch 91/300\n",
            "32/32 [==============================] - 0s 14ms/step - loss: 0.6018 - acc: 0.7214 - val_loss: 0.7684 - val_acc: 0.5920\n",
            "Epoch 92/300\n",
            "32/32 [==============================] - 0s 15ms/step - loss: 0.6260 - acc: 0.7275 - val_loss: 0.7661 - val_acc: 0.5840\n",
            "Epoch 93/300\n",
            "32/32 [==============================] - 1s 25ms/step - loss: 0.6051 - acc: 0.7415 - val_loss: 0.7539 - val_acc: 0.6240\n",
            "Epoch 94/300\n",
            "32/32 [==============================] - 0s 15ms/step - loss: 0.6077 - acc: 0.7335 - val_loss: 0.7361 - val_acc: 0.5920\n",
            "Epoch 95/300\n",
            "32/32 [==============================] - 0s 15ms/step - loss: 0.5985 - acc: 0.7455 - val_loss: 0.7642 - val_acc: 0.5840\n",
            "Epoch 96/300\n",
            "32/32 [==============================] - 0s 15ms/step - loss: 0.5657 - acc: 0.7655 - val_loss: 0.7848 - val_acc: 0.5840\n",
            "Epoch 97/300\n",
            "32/32 [==============================] - 0s 14ms/step - loss: 0.5568 - acc: 0.7615 - val_loss: 0.7772 - val_acc: 0.6160\n",
            "Epoch 98/300\n",
            "32/32 [==============================] - 0s 15ms/step - loss: 0.6314 - acc: 0.7315 - val_loss: 0.8171 - val_acc: 0.5760\n",
            "Epoch 99/300\n",
            "32/32 [==============================] - 1s 17ms/step - loss: 0.5644 - acc: 0.7675 - val_loss: 0.7821 - val_acc: 0.6320\n",
            "Epoch 100/300\n",
            "32/32 [==============================] - 1s 18ms/step - loss: 0.5978 - acc: 0.7275 - val_loss: 0.7324 - val_acc: 0.6640\n",
            "Epoch 101/300\n",
            "32/32 [==============================] - 0s 14ms/step - loss: 0.5955 - acc: 0.7355 - val_loss: 0.7633 - val_acc: 0.6160\n",
            "Epoch 102/300\n",
            "32/32 [==============================] - 0s 14ms/step - loss: 0.5876 - acc: 0.7455 - val_loss: 0.7530 - val_acc: 0.6240\n",
            "Epoch 103/300\n",
            "32/32 [==============================] - 0s 14ms/step - loss: 0.5703 - acc: 0.7635 - val_loss: 0.7406 - val_acc: 0.5920\n",
            "Epoch 104/300\n",
            "32/32 [==============================] - 0s 15ms/step - loss: 0.5496 - acc: 0.7796 - val_loss: 0.7664 - val_acc: 0.6080\n",
            "Epoch 105/300\n",
            "32/32 [==============================] - 0s 14ms/step - loss: 0.5702 - acc: 0.7495 - val_loss: 0.7752 - val_acc: 0.5760\n",
            "Epoch 106/300\n",
            "32/32 [==============================] - 0s 15ms/step - loss: 0.5471 - acc: 0.7776 - val_loss: 0.8689 - val_acc: 0.5600\n",
            "Epoch 107/300\n",
            "32/32 [==============================] - 0s 15ms/step - loss: 0.5221 - acc: 0.7735 - val_loss: 0.8047 - val_acc: 0.5760\n",
            "Epoch 108/300\n",
            "32/32 [==============================] - 0s 14ms/step - loss: 0.5525 - acc: 0.7655 - val_loss: 0.8131 - val_acc: 0.5680\n",
            "Epoch 109/300\n",
            "32/32 [==============================] - 0s 15ms/step - loss: 0.5661 - acc: 0.7675 - val_loss: 0.8980 - val_acc: 0.5680\n",
            "Epoch 110/300\n",
            "32/32 [==============================] - 0s 15ms/step - loss: 0.5707 - acc: 0.7335 - val_loss: 0.8383 - val_acc: 0.5920\n",
            "Epoch 111/300\n",
            "32/32 [==============================] - 1s 16ms/step - loss: 0.5698 - acc: 0.7655 - val_loss: 0.8446 - val_acc: 0.5520\n",
            "Epoch 112/300\n",
            "32/32 [==============================] - 1s 16ms/step - loss: 0.5448 - acc: 0.7735 - val_loss: 0.7910 - val_acc: 0.6160\n",
            "Epoch 113/300\n",
            "32/32 [==============================] - 1s 16ms/step - loss: 0.5533 - acc: 0.7776 - val_loss: 0.9884 - val_acc: 0.5600\n",
            "Epoch 114/300\n",
            "32/32 [==============================] - 0s 15ms/step - loss: 0.5039 - acc: 0.7816 - val_loss: 0.8102 - val_acc: 0.6080\n",
            "Epoch 115/300\n",
            "32/32 [==============================] - 1s 16ms/step - loss: 0.5168 - acc: 0.7976 - val_loss: 0.8647 - val_acc: 0.6320\n",
            "Epoch 116/300\n",
            "32/32 [==============================] - 1s 16ms/step - loss: 0.5453 - acc: 0.7896 - val_loss: 0.7660 - val_acc: 0.6000\n",
            "Epoch 117/300\n",
            "32/32 [==============================] - 0s 16ms/step - loss: 0.4938 - acc: 0.8116 - val_loss: 0.8152 - val_acc: 0.6240\n",
            "Epoch 118/300\n",
            "32/32 [==============================] - 0s 15ms/step - loss: 0.5147 - acc: 0.7896 - val_loss: 0.8794 - val_acc: 0.6000\n",
            "Epoch 119/300\n",
            "32/32 [==============================] - 0s 15ms/step - loss: 0.5579 - acc: 0.7535 - val_loss: 0.9706 - val_acc: 0.5600\n",
            "Epoch 120/300\n",
            "32/32 [==============================] - 0s 14ms/step - loss: 0.5539 - acc: 0.7735 - val_loss: 1.0038 - val_acc: 0.5520\n",
            "Epoch 121/300\n",
            "32/32 [==============================] - 0s 16ms/step - loss: 0.5173 - acc: 0.7856 - val_loss: 0.8207 - val_acc: 0.6240\n",
            "Epoch 122/300\n",
            "32/32 [==============================] - 0s 15ms/step - loss: 0.4938 - acc: 0.8357 - val_loss: 0.8960 - val_acc: 0.5520\n",
            "Epoch 123/300\n",
            "32/32 [==============================] - 1s 17ms/step - loss: 0.4805 - acc: 0.8176 - val_loss: 0.9358 - val_acc: 0.5840\n",
            "Epoch 124/300\n",
            "32/32 [==============================] - 1s 16ms/step - loss: 0.5065 - acc: 0.7916 - val_loss: 0.7608 - val_acc: 0.6640\n",
            "Epoch 125/300\n",
            "32/32 [==============================] - 0s 16ms/step - loss: 0.4816 - acc: 0.8096 - val_loss: 0.7773 - val_acc: 0.6400\n",
            "Epoch 126/300\n",
            "32/32 [==============================] - 0s 16ms/step - loss: 0.5011 - acc: 0.8056 - val_loss: 1.0309 - val_acc: 0.5600\n",
            "Epoch 127/300\n",
            "32/32 [==============================] - 1s 16ms/step - loss: 0.5257 - acc: 0.7976 - val_loss: 0.7482 - val_acc: 0.6080\n",
            "Epoch 128/300\n",
            "32/32 [==============================] - 1s 16ms/step - loss: 0.5100 - acc: 0.8116 - val_loss: 0.7542 - val_acc: 0.5840\n",
            "Epoch 129/300\n",
            "32/32 [==============================] - 1s 17ms/step - loss: 0.4739 - acc: 0.8196 - val_loss: 1.0674 - val_acc: 0.6000\n",
            "Epoch 130/300\n",
            "32/32 [==============================] - 0s 16ms/step - loss: 0.4861 - acc: 0.8036 - val_loss: 0.8473 - val_acc: 0.6000\n",
            "Epoch 131/300\n",
            "32/32 [==============================] - 1s 17ms/step - loss: 0.5146 - acc: 0.7876 - val_loss: 0.8177 - val_acc: 0.6240\n",
            "Epoch 132/300\n",
            "32/32 [==============================] - 1s 16ms/step - loss: 0.4704 - acc: 0.8176 - val_loss: 0.9772 - val_acc: 0.5760\n",
            "Epoch 133/300\n",
            "32/32 [==============================] - 1s 17ms/step - loss: 0.4677 - acc: 0.8377 - val_loss: 0.8375 - val_acc: 0.5840\n",
            "Epoch 134/300\n",
            "32/32 [==============================] - 1s 16ms/step - loss: 0.4536 - acc: 0.8277 - val_loss: 0.8266 - val_acc: 0.6240\n",
            "Epoch 135/300\n",
            "32/32 [==============================] - 1s 16ms/step - loss: 0.4740 - acc: 0.8016 - val_loss: 0.8040 - val_acc: 0.6240\n",
            "Epoch 136/300\n",
            "32/32 [==============================] - 0s 15ms/step - loss: 0.4751 - acc: 0.8116 - val_loss: 0.8131 - val_acc: 0.6080\n",
            "Epoch 137/300\n",
            "32/32 [==============================] - 1s 24ms/step - loss: 0.4613 - acc: 0.8257 - val_loss: 0.7911 - val_acc: 0.6000\n",
            "Epoch 138/300\n",
            "32/32 [==============================] - 1s 19ms/step - loss: 0.4785 - acc: 0.8096 - val_loss: 0.7584 - val_acc: 0.6640\n",
            "Epoch 139/300\n",
            "32/32 [==============================] - 1s 16ms/step - loss: 0.4942 - acc: 0.8056 - val_loss: 0.7781 - val_acc: 0.6320\n",
            "Epoch 140/300\n",
            "32/32 [==============================] - 1s 16ms/step - loss: 0.4504 - acc: 0.8236 - val_loss: 0.8371 - val_acc: 0.6240\n",
            "Epoch 141/300\n",
            "32/32 [==============================] - 0s 15ms/step - loss: 0.4622 - acc: 0.8257 - val_loss: 0.9018 - val_acc: 0.6000\n",
            "Epoch 142/300\n",
            "32/32 [==============================] - 1s 19ms/step - loss: 0.4215 - acc: 0.8517 - val_loss: 0.7938 - val_acc: 0.6320\n",
            "Epoch 143/300\n",
            "32/32 [==============================] - 1s 16ms/step - loss: 0.4162 - acc: 0.8437 - val_loss: 0.8966 - val_acc: 0.6240\n",
            "Epoch 144/300\n",
            "32/32 [==============================] - 1s 16ms/step - loss: 0.4233 - acc: 0.8417 - val_loss: 0.8361 - val_acc: 0.6560\n",
            "Epoch 145/300\n",
            "32/32 [==============================] - 1s 16ms/step - loss: 0.4494 - acc: 0.8216 - val_loss: 0.8863 - val_acc: 0.6160\n",
            "Epoch 146/300\n",
            "32/32 [==============================] - 0s 16ms/step - loss: 0.4249 - acc: 0.8437 - val_loss: 0.8378 - val_acc: 0.6560\n",
            "Epoch 147/300\n",
            "32/32 [==============================] - 1s 16ms/step - loss: 0.4071 - acc: 0.8257 - val_loss: 1.0864 - val_acc: 0.5760\n",
            "Epoch 148/300\n",
            "32/32 [==============================] - 1s 16ms/step - loss: 0.4039 - acc: 0.8737 - val_loss: 1.0787 - val_acc: 0.5920\n",
            "Epoch 149/300\n",
            "32/32 [==============================] - 1s 15ms/step - loss: 0.4119 - acc: 0.8517 - val_loss: 0.8276 - val_acc: 0.6320\n",
            "Epoch 150/300\n",
            "32/32 [==============================] - 1s 16ms/step - loss: 0.4248 - acc: 0.8337 - val_loss: 1.0246 - val_acc: 0.6000\n",
            "Epoch 151/300\n",
            "32/32 [==============================] - 1s 16ms/step - loss: 0.4698 - acc: 0.8076 - val_loss: 0.8300 - val_acc: 0.6240\n",
            "Epoch 152/300\n",
            "32/32 [==============================] - 1s 16ms/step - loss: 0.4209 - acc: 0.8517 - val_loss: 0.8761 - val_acc: 0.6320\n",
            "Epoch 153/300\n",
            "32/32 [==============================] - 1s 16ms/step - loss: 0.4057 - acc: 0.8637 - val_loss: 0.9406 - val_acc: 0.5920\n",
            "Epoch 154/300\n",
            "32/32 [==============================] - 0s 16ms/step - loss: 0.3923 - acc: 0.8617 - val_loss: 1.1642 - val_acc: 0.6000\n",
            "Epoch 155/300\n",
            "32/32 [==============================] - 0s 15ms/step - loss: 0.3764 - acc: 0.8577 - val_loss: 0.9712 - val_acc: 0.6160\n",
            "Epoch 156/300\n",
            "32/32 [==============================] - 1s 16ms/step - loss: 0.4186 - acc: 0.8537 - val_loss: 1.0741 - val_acc: 0.6320\n",
            "Epoch 157/300\n",
            "32/32 [==============================] - 0s 15ms/step - loss: 0.3629 - acc: 0.8758 - val_loss: 1.0176 - val_acc: 0.6160\n",
            "Epoch 158/300\n",
            "32/32 [==============================] - 1s 16ms/step - loss: 0.3584 - acc: 0.8697 - val_loss: 1.3355 - val_acc: 0.5840\n",
            "Epoch 159/300\n",
            "32/32 [==============================] - 0s 15ms/step - loss: 0.4355 - acc: 0.8517 - val_loss: 0.9264 - val_acc: 0.6160\n",
            "Epoch 160/300\n",
            "32/32 [==============================] - 1s 16ms/step - loss: 0.3883 - acc: 0.8798 - val_loss: 0.9140 - val_acc: 0.6160\n",
            "Epoch 161/300\n",
            "32/32 [==============================] - 1s 16ms/step - loss: 0.3724 - acc: 0.8657 - val_loss: 1.0232 - val_acc: 0.6160\n",
            "Epoch 162/300\n",
            "32/32 [==============================] - 0s 15ms/step - loss: 0.4058 - acc: 0.8497 - val_loss: 0.7592 - val_acc: 0.6640\n",
            "Epoch 163/300\n",
            "32/32 [==============================] - 1s 16ms/step - loss: 0.3692 - acc: 0.8758 - val_loss: 1.3151 - val_acc: 0.5680\n",
            "Epoch 164/300\n",
            "32/32 [==============================] - 0s 15ms/step - loss: 0.3763 - acc: 0.8737 - val_loss: 0.8876 - val_acc: 0.6560\n",
            "Epoch 165/300\n",
            "32/32 [==============================] - 1s 16ms/step - loss: 0.3678 - acc: 0.8657 - val_loss: 0.8041 - val_acc: 0.6560\n",
            "Epoch 166/300\n",
            "32/32 [==============================] - 1s 16ms/step - loss: 0.3780 - acc: 0.8717 - val_loss: 1.2112 - val_acc: 0.5760\n",
            "Epoch 167/300\n",
            "32/32 [==============================] - 1s 16ms/step - loss: 0.3687 - acc: 0.8677 - val_loss: 0.9343 - val_acc: 0.6240\n",
            "Epoch 168/300\n",
            "32/32 [==============================] - 0s 16ms/step - loss: 0.3618 - acc: 0.8657 - val_loss: 0.8937 - val_acc: 0.6480\n",
            "Epoch 169/300\n",
            "32/32 [==============================] - 0s 15ms/step - loss: 0.3565 - acc: 0.8697 - val_loss: 0.8983 - val_acc: 0.6400\n",
            "Epoch 170/300\n",
            "32/32 [==============================] - 0s 15ms/step - loss: 0.3776 - acc: 0.8577 - val_loss: 1.0020 - val_acc: 0.6240\n",
            "Epoch 171/300\n",
            "32/32 [==============================] - 1s 16ms/step - loss: 0.3943 - acc: 0.8617 - val_loss: 0.8755 - val_acc: 0.6320\n",
            "Epoch 172/300\n",
            "32/32 [==============================] - 1s 17ms/step - loss: 0.3585 - acc: 0.8818 - val_loss: 1.5289 - val_acc: 0.5360\n",
            "Epoch 173/300\n",
            "32/32 [==============================] - 0s 15ms/step - loss: 0.6476 - acc: 0.7615 - val_loss: 0.7477 - val_acc: 0.6480\n",
            "Epoch 174/300\n",
            "32/32 [==============================] - 1s 16ms/step - loss: 0.3953 - acc: 0.8517 - val_loss: 0.7924 - val_acc: 0.6560\n",
            "Epoch 175/300\n",
            "32/32 [==============================] - 1s 16ms/step - loss: 0.3490 - acc: 0.8858 - val_loss: 0.8316 - val_acc: 0.6640\n",
            "Epoch 176/300\n",
            "32/32 [==============================] - 0s 15ms/step - loss: 0.3470 - acc: 0.8858 - val_loss: 0.9950 - val_acc: 0.6000\n",
            "Epoch 177/300\n",
            "32/32 [==============================] - 0s 15ms/step - loss: 0.3758 - acc: 0.8677 - val_loss: 0.9986 - val_acc: 0.6080\n",
            "Epoch 178/300\n",
            "32/32 [==============================] - 0s 16ms/step - loss: 0.3153 - acc: 0.8978 - val_loss: 0.9804 - val_acc: 0.6480\n",
            "Epoch 179/300\n",
            "32/32 [==============================] - 1s 16ms/step - loss: 0.3547 - acc: 0.8737 - val_loss: 0.8435 - val_acc: 0.6240\n",
            "Epoch 180/300\n",
            "32/32 [==============================] - 1s 16ms/step - loss: 0.3238 - acc: 0.8938 - val_loss: 0.8707 - val_acc: 0.6560\n",
            "Epoch 181/300\n",
            "32/32 [==============================] - 1s 17ms/step - loss: 0.3199 - acc: 0.8918 - val_loss: 0.9291 - val_acc: 0.6640\n",
            "Epoch 182/300\n",
            "32/32 [==============================] - 0s 16ms/step - loss: 0.3375 - acc: 0.8918 - val_loss: 1.2105 - val_acc: 0.5920\n",
            "Epoch 183/300\n",
            "32/32 [==============================] - 0s 15ms/step - loss: 0.3512 - acc: 0.8758 - val_loss: 0.8582 - val_acc: 0.6400\n",
            "Epoch 184/300\n",
            "32/32 [==============================] - 1s 16ms/step - loss: 0.2903 - acc: 0.9118 - val_loss: 0.9222 - val_acc: 0.6240\n",
            "Epoch 185/300\n",
            "32/32 [==============================] - 1s 16ms/step - loss: 0.3136 - acc: 0.8918 - val_loss: 0.9430 - val_acc: 0.6240\n",
            "Epoch 186/300\n",
            "32/32 [==============================] - 0s 15ms/step - loss: 0.3516 - acc: 0.8898 - val_loss: 1.0576 - val_acc: 0.6080\n",
            "Epoch 187/300\n",
            "32/32 [==============================] - 0s 15ms/step - loss: 0.3362 - acc: 0.8858 - val_loss: 0.8417 - val_acc: 0.6480\n",
            "Epoch 188/300\n",
            "32/32 [==============================] - 0s 16ms/step - loss: 0.3119 - acc: 0.8958 - val_loss: 0.8927 - val_acc: 0.6560\n",
            "Epoch 189/300\n",
            "32/32 [==============================] - 1s 16ms/step - loss: 0.3157 - acc: 0.8938 - val_loss: 0.9442 - val_acc: 0.6480\n",
            "Epoch 190/300\n",
            "32/32 [==============================] - 1s 16ms/step - loss: 0.3120 - acc: 0.9058 - val_loss: 1.1083 - val_acc: 0.5840\n",
            "Epoch 191/300\n",
            "32/32 [==============================] - 0s 15ms/step - loss: 0.3089 - acc: 0.9018 - val_loss: 1.0037 - val_acc: 0.6000\n",
            "Epoch 192/300\n",
            "32/32 [==============================] - 1s 16ms/step - loss: 0.2991 - acc: 0.9138 - val_loss: 1.0527 - val_acc: 0.5920\n",
            "Epoch 193/300\n",
            "32/32 [==============================] - 1s 16ms/step - loss: 0.2961 - acc: 0.9038 - val_loss: 1.1821 - val_acc: 0.5680\n",
            "Epoch 194/300\n",
            "32/32 [==============================] - 1s 17ms/step - loss: 0.3418 - acc: 0.8918 - val_loss: 1.3686 - val_acc: 0.5680\n",
            "Epoch 195/300\n",
            "32/32 [==============================] - 0s 15ms/step - loss: 0.3046 - acc: 0.9018 - val_loss: 1.0204 - val_acc: 0.6080\n",
            "Epoch 196/300\n",
            "32/32 [==============================] - 0s 15ms/step - loss: 0.2933 - acc: 0.9158 - val_loss: 0.9401 - val_acc: 0.6000\n",
            "Epoch 197/300\n",
            "32/32 [==============================] - 1s 24ms/step - loss: 0.2686 - acc: 0.9218 - val_loss: 0.8878 - val_acc: 0.6880\n",
            "Epoch 198/300\n",
            "32/32 [==============================] - 0s 15ms/step - loss: 0.3025 - acc: 0.8938 - val_loss: 1.5820 - val_acc: 0.5600\n",
            "Epoch 199/300\n",
            "32/32 [==============================] - 1s 16ms/step - loss: 0.3084 - acc: 0.9018 - val_loss: 0.9605 - val_acc: 0.6160\n",
            "Epoch 200/300\n",
            "32/32 [==============================] - 1s 24ms/step - loss: 0.2605 - acc: 0.9198 - val_loss: 0.9405 - val_acc: 0.6240\n",
            "Epoch 201/300\n",
            "32/32 [==============================] - 1s 21ms/step - loss: 0.2828 - acc: 0.9058 - val_loss: 1.1429 - val_acc: 0.5920\n",
            "Epoch 202/300\n",
            "32/32 [==============================] - 1s 16ms/step - loss: 0.3138 - acc: 0.8858 - val_loss: 0.8881 - val_acc: 0.6160\n",
            "Epoch 203/300\n",
            "32/32 [==============================] - 0s 15ms/step - loss: 0.3090 - acc: 0.9018 - val_loss: 0.9440 - val_acc: 0.6160\n",
            "Epoch 204/300\n",
            "32/32 [==============================] - 1s 16ms/step - loss: 0.2679 - acc: 0.9198 - val_loss: 1.2775 - val_acc: 0.6000\n",
            "Epoch 205/300\n",
            "32/32 [==============================] - 1s 16ms/step - loss: 0.3101 - acc: 0.8878 - val_loss: 0.8881 - val_acc: 0.6640\n",
            "Epoch 206/300\n",
            "32/32 [==============================] - 0s 16ms/step - loss: 0.3100 - acc: 0.8818 - val_loss: 0.9538 - val_acc: 0.6400\n",
            "Epoch 207/300\n",
            "32/32 [==============================] - 1s 16ms/step - loss: 0.2974 - acc: 0.9018 - val_loss: 1.2303 - val_acc: 0.5680\n",
            "Epoch 208/300\n",
            "32/32 [==============================] - 1s 16ms/step - loss: 0.2545 - acc: 0.9138 - val_loss: 1.0312 - val_acc: 0.6480\n",
            "Epoch 209/300\n",
            "32/32 [==============================] - 1s 16ms/step - loss: 0.2734 - acc: 0.9138 - val_loss: 1.1459 - val_acc: 0.6320\n",
            "Epoch 210/300\n",
            "32/32 [==============================] - 1s 16ms/step - loss: 0.2741 - acc: 0.9218 - val_loss: 1.0483 - val_acc: 0.6480\n",
            "Epoch 211/300\n",
            "32/32 [==============================] - 0s 16ms/step - loss: 0.2908 - acc: 0.9098 - val_loss: 0.9429 - val_acc: 0.6400\n",
            "Epoch 212/300\n",
            "32/32 [==============================] - 1s 17ms/step - loss: 0.2594 - acc: 0.9238 - val_loss: 0.9890 - val_acc: 0.6480\n",
            "Epoch 213/300\n",
            "32/32 [==============================] - 1s 17ms/step - loss: 0.2577 - acc: 0.9218 - val_loss: 1.0492 - val_acc: 0.6000\n",
            "Epoch 214/300\n",
            "32/32 [==============================] - 0s 15ms/step - loss: 0.2542 - acc: 0.9299 - val_loss: 0.9534 - val_acc: 0.6560\n",
            "Epoch 215/300\n",
            "32/32 [==============================] - 0s 15ms/step - loss: 0.2184 - acc: 0.9419 - val_loss: 1.0862 - val_acc: 0.6240\n",
            "Epoch 216/300\n",
            "32/32 [==============================] - 1s 17ms/step - loss: 0.2417 - acc: 0.9299 - val_loss: 1.1696 - val_acc: 0.6160\n",
            "Epoch 217/300\n",
            "32/32 [==============================] - 0s 16ms/step - loss: 0.2379 - acc: 0.9299 - val_loss: 1.1598 - val_acc: 0.6080\n",
            "Epoch 218/300\n",
            "32/32 [==============================] - 1s 16ms/step - loss: 0.2361 - acc: 0.9259 - val_loss: 1.3348 - val_acc: 0.6320\n",
            "Epoch 219/300\n",
            "32/32 [==============================] - 0s 16ms/step - loss: 0.2433 - acc: 0.9238 - val_loss: 1.9569 - val_acc: 0.5440\n",
            "Epoch 220/300\n",
            "32/32 [==============================] - 1s 16ms/step - loss: 0.2342 - acc: 0.9259 - val_loss: 1.2283 - val_acc: 0.6000\n",
            "Epoch 221/300\n",
            "32/32 [==============================] - 1s 16ms/step - loss: 0.2342 - acc: 0.9339 - val_loss: 1.2924 - val_acc: 0.6160\n",
            "Epoch 222/300\n",
            "32/32 [==============================] - 1s 16ms/step - loss: 0.2238 - acc: 0.9238 - val_loss: 1.2086 - val_acc: 0.6160\n",
            "Epoch 223/300\n",
            "32/32 [==============================] - 0s 15ms/step - loss: 0.2468 - acc: 0.9178 - val_loss: 1.1668 - val_acc: 0.5920\n",
            "Epoch 224/300\n",
            "32/32 [==============================] - 1s 16ms/step - loss: 0.2212 - acc: 0.9459 - val_loss: 1.1062 - val_acc: 0.6480\n",
            "Epoch 225/300\n",
            "32/32 [==============================] - 1s 16ms/step - loss: 0.2157 - acc: 0.9359 - val_loss: 1.4249 - val_acc: 0.6080\n",
            "Epoch 226/300\n",
            "32/32 [==============================] - 0s 15ms/step - loss: 0.2335 - acc: 0.9379 - val_loss: 1.2133 - val_acc: 0.6320\n",
            "Epoch 227/300\n",
            "32/32 [==============================] - 1s 16ms/step - loss: 0.2059 - acc: 0.9439 - val_loss: 1.1132 - val_acc: 0.6320\n",
            "Epoch 228/300\n",
            "32/32 [==============================] - 0s 15ms/step - loss: 0.2123 - acc: 0.9459 - val_loss: 1.1523 - val_acc: 0.6320\n",
            "Epoch 229/300\n",
            "32/32 [==============================] - 0s 15ms/step - loss: 0.2287 - acc: 0.9299 - val_loss: 1.0859 - val_acc: 0.6480\n",
            "Epoch 230/300\n",
            "32/32 [==============================] - 1s 16ms/step - loss: 0.2228 - acc: 0.9359 - val_loss: 1.2497 - val_acc: 0.5920\n",
            "Epoch 231/300\n",
            "32/32 [==============================] - 1s 16ms/step - loss: 0.2763 - acc: 0.9078 - val_loss: 1.1345 - val_acc: 0.6000\n",
            "Epoch 232/300\n",
            "32/32 [==============================] - 0s 15ms/step - loss: 0.2435 - acc: 0.9238 - val_loss: 1.0042 - val_acc: 0.6560\n",
            "Epoch 233/300\n",
            "32/32 [==============================] - 0s 15ms/step - loss: 0.2145 - acc: 0.9439 - val_loss: 1.0729 - val_acc: 0.6080\n",
            "Epoch 234/300\n",
            "32/32 [==============================] - 1s 16ms/step - loss: 0.2291 - acc: 0.9459 - val_loss: 0.9663 - val_acc: 0.6400\n",
            "Epoch 235/300\n",
            "32/32 [==============================] - 0s 16ms/step - loss: 0.1955 - acc: 0.9539 - val_loss: 1.1756 - val_acc: 0.6640\n",
            "Epoch 236/300\n",
            "32/32 [==============================] - 1s 16ms/step - loss: 0.2142 - acc: 0.9499 - val_loss: 1.4476 - val_acc: 0.6000\n",
            "Epoch 237/300\n",
            "32/32 [==============================] - 0s 15ms/step - loss: 0.2199 - acc: 0.9439 - val_loss: 1.4126 - val_acc: 0.6160\n",
            "Epoch 238/300\n",
            "32/32 [==============================] - 1s 16ms/step - loss: 0.2202 - acc: 0.9379 - val_loss: 1.2872 - val_acc: 0.6160\n",
            "Epoch 239/300\n",
            "32/32 [==============================] - 1s 16ms/step - loss: 0.2134 - acc: 0.9339 - val_loss: 0.9945 - val_acc: 0.6480\n",
            "Epoch 240/300\n",
            "32/32 [==============================] - 1s 16ms/step - loss: 0.1849 - acc: 0.9599 - val_loss: 1.2292 - val_acc: 0.6400\n",
            "Epoch 241/300\n",
            "32/32 [==============================] - 1s 16ms/step - loss: 0.2308 - acc: 0.9238 - val_loss: 1.1245 - val_acc: 0.6320\n",
            "Epoch 242/300\n",
            "32/32 [==============================] - 0s 16ms/step - loss: 0.2104 - acc: 0.9559 - val_loss: 2.0527 - val_acc: 0.5600\n",
            "Epoch 243/300\n",
            "32/32 [==============================] - 1s 16ms/step - loss: 0.2248 - acc: 0.9399 - val_loss: 1.0898 - val_acc: 0.6480\n",
            "Epoch 244/300\n",
            "32/32 [==============================] - 1s 16ms/step - loss: 0.2233 - acc: 0.9399 - val_loss: 1.1812 - val_acc: 0.6400\n",
            "Epoch 245/300\n",
            "32/32 [==============================] - 1s 16ms/step - loss: 0.1986 - acc: 0.9439 - val_loss: 1.2011 - val_acc: 0.6320\n",
            "Epoch 246/300\n",
            "32/32 [==============================] - 1s 16ms/step - loss: 0.2046 - acc: 0.9419 - val_loss: 1.5945 - val_acc: 0.6160\n",
            "Epoch 247/300\n",
            "32/32 [==============================] - 1s 16ms/step - loss: 0.2216 - acc: 0.9419 - val_loss: 1.3290 - val_acc: 0.6400\n",
            "Epoch 248/300\n",
            "32/32 [==============================] - 1s 16ms/step - loss: 0.2563 - acc: 0.9158 - val_loss: 1.3271 - val_acc: 0.5840\n",
            "Epoch 249/300\n",
            "32/32 [==============================] - 1s 17ms/step - loss: 0.2026 - acc: 0.9479 - val_loss: 1.4003 - val_acc: 0.5840\n",
            "Epoch 250/300\n",
            "32/32 [==============================] - 1s 17ms/step - loss: 0.1964 - acc: 0.9559 - val_loss: 1.3674 - val_acc: 0.5760\n",
            "Epoch 251/300\n",
            "32/32 [==============================] - 1s 16ms/step - loss: 0.1993 - acc: 0.9559 - val_loss: 1.0275 - val_acc: 0.6320\n",
            "Epoch 252/300\n",
            "32/32 [==============================] - 1s 16ms/step - loss: 0.2224 - acc: 0.9259 - val_loss: 1.2462 - val_acc: 0.6240\n",
            "Epoch 253/300\n",
            "32/32 [==============================] - 1s 16ms/step - loss: 0.2044 - acc: 0.9379 - val_loss: 1.0080 - val_acc: 0.6480\n",
            "Epoch 254/300\n",
            "32/32 [==============================] - 1s 16ms/step - loss: 0.2048 - acc: 0.9539 - val_loss: 1.0367 - val_acc: 0.6400\n",
            "Epoch 255/300\n",
            "32/32 [==============================] - 0s 15ms/step - loss: 0.1942 - acc: 0.9479 - val_loss: 1.0933 - val_acc: 0.6400\n",
            "Epoch 256/300\n",
            "32/32 [==============================] - 1s 16ms/step - loss: 0.1886 - acc: 0.9579 - val_loss: 1.3139 - val_acc: 0.5840\n",
            "Epoch 257/300\n",
            "32/32 [==============================] - 0s 15ms/step - loss: 0.2471 - acc: 0.9279 - val_loss: 1.0411 - val_acc: 0.6240\n",
            "Epoch 258/300\n",
            "32/32 [==============================] - 1s 16ms/step - loss: 0.1955 - acc: 0.9419 - val_loss: 1.0286 - val_acc: 0.6160\n",
            "Epoch 259/300\n",
            "32/32 [==============================] - 0s 16ms/step - loss: 0.1926 - acc: 0.9479 - val_loss: 0.9979 - val_acc: 0.6400\n",
            "Epoch 260/300\n",
            "32/32 [==============================] - 1s 16ms/step - loss: 0.1638 - acc: 0.9639 - val_loss: 1.3623 - val_acc: 0.6320\n",
            "Epoch 261/300\n",
            "32/32 [==============================] - 1s 16ms/step - loss: 0.1743 - acc: 0.9639 - val_loss: 1.2025 - val_acc: 0.6320\n",
            "Epoch 262/300\n",
            "32/32 [==============================] - 1s 17ms/step - loss: 0.1842 - acc: 0.9459 - val_loss: 1.7774 - val_acc: 0.5600\n",
            "Epoch 263/300\n",
            "32/32 [==============================] - 1s 16ms/step - loss: 0.1738 - acc: 0.9579 - val_loss: 1.1553 - val_acc: 0.6480\n",
            "Epoch 264/300\n",
            "32/32 [==============================] - 1s 16ms/step - loss: 0.1808 - acc: 0.9499 - val_loss: 1.1888 - val_acc: 0.6480\n",
            "Epoch 265/300\n",
            "32/32 [==============================] - 1s 16ms/step - loss: 0.1737 - acc: 0.9619 - val_loss: 1.1634 - val_acc: 0.6480\n",
            "Epoch 266/300\n",
            "32/32 [==============================] - 1s 17ms/step - loss: 0.2202 - acc: 0.9499 - val_loss: 1.0402 - val_acc: 0.6400\n",
            "Epoch 267/300\n",
            "32/32 [==============================] - 0s 15ms/step - loss: 0.1704 - acc: 0.9559 - val_loss: 1.1191 - val_acc: 0.6320\n",
            "Epoch 268/300\n",
            "32/32 [==============================] - 0s 16ms/step - loss: 0.2091 - acc: 0.9299 - val_loss: 1.3071 - val_acc: 0.6160\n",
            "Epoch 269/300\n",
            "32/32 [==============================] - 0s 15ms/step - loss: 0.1414 - acc: 0.9800 - val_loss: 1.1642 - val_acc: 0.6480\n",
            "Epoch 270/300\n",
            "32/32 [==============================] - 1s 17ms/step - loss: 0.1997 - acc: 0.9379 - val_loss: 1.1024 - val_acc: 0.6560\n",
            "Epoch 271/300\n",
            "32/32 [==============================] - 0s 16ms/step - loss: 0.1660 - acc: 0.9599 - val_loss: 1.4710 - val_acc: 0.6000\n",
            "Epoch 272/300\n",
            "32/32 [==============================] - 0s 15ms/step - loss: 0.2195 - acc: 0.9379 - val_loss: 1.2071 - val_acc: 0.6320\n",
            "Epoch 273/300\n",
            "32/32 [==============================] - 0s 15ms/step - loss: 0.1863 - acc: 0.9499 - val_loss: 1.3890 - val_acc: 0.6000\n",
            "Epoch 274/300\n",
            "32/32 [==============================] - 1s 17ms/step - loss: 0.1887 - acc: 0.9499 - val_loss: 1.1032 - val_acc: 0.6400\n",
            "Epoch 275/300\n",
            "32/32 [==============================] - 1s 16ms/step - loss: 0.1863 - acc: 0.9599 - val_loss: 1.1894 - val_acc: 0.6160\n",
            "Epoch 276/300\n",
            "32/32 [==============================] - 0s 15ms/step - loss: 0.1525 - acc: 0.9739 - val_loss: 1.2703 - val_acc: 0.6240\n",
            "Epoch 277/300\n",
            "32/32 [==============================] - 1s 16ms/step - loss: 0.1888 - acc: 0.9519 - val_loss: 1.1628 - val_acc: 0.6400\n",
            "Epoch 278/300\n",
            "32/32 [==============================] - 1s 16ms/step - loss: 0.2024 - acc: 0.9519 - val_loss: 1.1913 - val_acc: 0.6320\n",
            "Epoch 279/300\n",
            "32/32 [==============================] - 0s 15ms/step - loss: 0.2287 - acc: 0.9399 - val_loss: 1.1291 - val_acc: 0.5840\n",
            "Epoch 280/300\n",
            "32/32 [==============================] - 1s 16ms/step - loss: 0.1828 - acc: 0.9499 - val_loss: 1.1522 - val_acc: 0.6560\n",
            "Epoch 281/300\n",
            "32/32 [==============================] - 1s 16ms/step - loss: 0.2074 - acc: 0.9419 - val_loss: 1.0481 - val_acc: 0.6320\n",
            "Epoch 282/300\n",
            "32/32 [==============================] - 1s 16ms/step - loss: 0.1794 - acc: 0.9519 - val_loss: 1.0628 - val_acc: 0.6640\n",
            "Epoch 283/300\n",
            "32/32 [==============================] - 1s 16ms/step - loss: 0.1871 - acc: 0.9559 - val_loss: 0.9884 - val_acc: 0.6640\n",
            "Epoch 284/300\n",
            "32/32 [==============================] - 1s 16ms/step - loss: 0.1598 - acc: 0.9599 - val_loss: 1.0670 - val_acc: 0.6480\n",
            "Epoch 285/300\n",
            "32/32 [==============================] - 1s 16ms/step - loss: 0.1500 - acc: 0.9639 - val_loss: 1.1239 - val_acc: 0.6480\n",
            "Epoch 286/300\n",
            "32/32 [==============================] - 1s 16ms/step - loss: 0.1517 - acc: 0.9699 - val_loss: 1.1736 - val_acc: 0.6560\n",
            "Epoch 287/300\n",
            "32/32 [==============================] - 1s 16ms/step - loss: 0.1478 - acc: 0.9780 - val_loss: 1.1183 - val_acc: 0.6720\n",
            "Epoch 288/300\n",
            "32/32 [==============================] - 0s 16ms/step - loss: 0.1737 - acc: 0.9539 - val_loss: 1.2043 - val_acc: 0.6160\n",
            "Epoch 289/300\n",
            "32/32 [==============================] - 1s 17ms/step - loss: 0.1419 - acc: 0.9739 - val_loss: 1.3135 - val_acc: 0.6480\n",
            "Epoch 290/300\n",
            "32/32 [==============================] - 1s 16ms/step - loss: 0.1843 - acc: 0.9539 - val_loss: 1.1674 - val_acc: 0.6160\n",
            "Epoch 291/300\n",
            "32/32 [==============================] - 1s 16ms/step - loss: 0.1326 - acc: 0.9739 - val_loss: 1.2038 - val_acc: 0.6400\n",
            "Epoch 292/300\n",
            "32/32 [==============================] - 1s 17ms/step - loss: 0.1468 - acc: 0.9679 - val_loss: 1.3237 - val_acc: 0.6480\n",
            "Epoch 293/300\n",
            "32/32 [==============================] - 1s 17ms/step - loss: 0.1687 - acc: 0.9559 - val_loss: 1.1630 - val_acc: 0.6480\n",
            "Epoch 294/300\n",
            "32/32 [==============================] - 1s 17ms/step - loss: 0.1660 - acc: 0.9599 - val_loss: 1.2333 - val_acc: 0.6640\n",
            "Epoch 295/300\n",
            "32/32 [==============================] - 1s 16ms/step - loss: 0.1363 - acc: 0.9659 - val_loss: 1.6041 - val_acc: 0.6320\n",
            "Epoch 296/300\n",
            "32/32 [==============================] - 1s 16ms/step - loss: 0.1929 - acc: 0.9539 - val_loss: 1.2196 - val_acc: 0.6320\n",
            "Epoch 297/300\n",
            "32/32 [==============================] - 1s 16ms/step - loss: 0.1605 - acc: 0.9639 - val_loss: 1.2854 - val_acc: 0.6320\n",
            "Epoch 298/300\n",
            "32/32 [==============================] - 1s 16ms/step - loss: 0.1391 - acc: 0.9699 - val_loss: 1.2127 - val_acc: 0.6240\n",
            "Epoch 299/300\n",
            "32/32 [==============================] - 1s 16ms/step - loss: 0.2030 - acc: 0.9459 - val_loss: 1.7536 - val_acc: 0.6080\n",
            "Epoch 300/300\n",
            "32/32 [==============================] - 1s 17ms/step - loss: 0.1622 - acc: 0.9579 - val_loss: 1.2234 - val_acc: 0.6160\n",
            "5/5 [==============================] - 0s 37ms/step\n",
            "DONE\n"
          ]
        },
        {
          "output_type": "display_data",
          "data": {
            "text/plain": [
              "<Figure size 720x720 with 0 Axes>"
            ]
          },
          "metadata": {}
        }
      ],
      "source": [
        "if COMPLETE_CALCULATIONS:\n",
        "    which_expert = np.array ([\"A\", \"B\", \"C\"])\n",
        "    windows = [1, 2, 5, 10, 20]\n",
        "    chunks = [1, 2, 5, 10, 20, 10000]\n",
        "    kfold = True\n",
        "else:\n",
        "    # For fast testing only\n",
        "    which_expert = np.array ([\"A\"])\n",
        "    windows = [1]\n",
        "    chunks = [1]\n",
        "    kfold = False\n",
        "\n",
        "for we in which_expert:\n",
        "    for w in windows:\n",
        "        for c in chunks:\n",
        "            x, y, data_name = read_data(freq = FREQ, which_expert = we, window = w, chunks = c, print_to_file = True)\n",
        "            print(x.shape)\n",
        "            print(y.shape)\n",
        "            if c == 10000:\n",
        "                # patience: Number of epochs with no improvement after which training will be stopped.\n",
        "                # Since calculations for chunks = 10000 take a long time, in this case we allow earlier ending of calculations.\n",
        "                CNN_fit_eval_pred(x = x, y = y, data_name = data_name, kfold = False, patience = 30)\n",
        "            else:\n",
        "                CNN_fit_eval_pred(x = x, y = y, data_name = data_name, kfold = kfold)\n",
        "\n",
        "print(\"DONE\")"
      ]
    },
    {
      "cell_type": "markdown",
      "metadata": {
        "id": "Uqnx_uxp3sfy"
      },
      "source": [
        "# Visualize the model"
      ]
    },
    {
      "cell_type": "code",
      "execution_count": null,
      "metadata": {
        "id": "p2PEgV8D3x0h",
        "colab": {
          "base_uri": "https://localhost:8080/"
        },
        "outputId": "097c80bf-7a53-4152-85f3-e2085d2f0a09"
      },
      "outputs": [
        {
          "output_type": "stream",
          "name": "stdout",
          "text": [
            "Model: \"sequential_1\"\n",
            "_________________________________________________________________\n",
            " Layer (type)                Output Shape              Param #   \n",
            "=================================================================\n",
            " conv2d_1 (Conv2D)           (None, 64, 18, 128)       1280      \n",
            "                                                                 \n",
            " batch_normalization_1 (Batc  (None, 64, 18, 128)      512       \n",
            " hNormalization)                                                 \n",
            "                                                                 \n",
            " activation_relu_1 (Activati  (None, 64, 18, 128)      0         \n",
            " on)                                                             \n",
            "                                                                 \n",
            " max_pooling2d_1 (MaxPooling  (None, 32, 9, 128)       0         \n",
            " 2D)                                                             \n",
            "                                                                 \n",
            " dropout_1 (Dropout)         (None, 32, 9, 128)        0         \n",
            "                                                                 \n",
            " conv2d_2 (Conv2D)           (None, 32, 9, 64)         73792     \n",
            "                                                                 \n",
            " batch_normalization_2 (Batc  (None, 32, 9, 64)        256       \n",
            " hNormalization)                                                 \n",
            "                                                                 \n",
            " activation_relu_2 (Activati  (None, 32, 9, 64)        0         \n",
            " on)                                                             \n",
            "                                                                 \n",
            " max_pooling2d_2 (MaxPooling  (None, 16, 4, 64)        0         \n",
            " 2D)                                                             \n",
            "                                                                 \n",
            " dropout_2 (Dropout)         (None, 16, 4, 64)         0         \n",
            "                                                                 \n",
            " conv2d_3 (Conv2D)           (None, 16, 4, 32)         18464     \n",
            "                                                                 \n",
            " batch_normalization_3 (Batc  (None, 16, 4, 32)        128       \n",
            " hNormalization)                                                 \n",
            "                                                                 \n",
            " activation_relu_3 (Activati  (None, 16, 4, 32)        0         \n",
            " on)                                                             \n",
            "                                                                 \n",
            " max_pooling2d_3 (MaxPooling  (None, 8, 2, 32)         0         \n",
            " 2D)                                                             \n",
            "                                                                 \n",
            " dropout_3 (Dropout)         (None, 8, 2, 32)          0         \n",
            "                                                                 \n",
            " flatten (Flatten)           (None, 512)               0         \n",
            "                                                                 \n",
            " dense_1 (Dense)             (None, 32)                16416     \n",
            "                                                                 \n",
            " dropout_4 (Dropout)         (None, 32)                0         \n",
            "                                                                 \n",
            " dense_2 (Dense)             (None, 64)                2112      \n",
            "                                                                 \n",
            " dense_3 (Dense)             (None, 1)                 65        \n",
            "                                                                 \n",
            "=================================================================\n",
            "Total params: 113,025\n",
            "Trainable params: 112,577\n",
            "Non-trainable params: 448\n",
            "_________________________________________________________________\n"
          ]
        }
      ],
      "source": [
        "x, y, data_name = read_data(freq = FREQ, which_expert = \"A\", window = 1, chunks = 1, print_to_file = False)\n",
        "my_shape = np.expand_dims(x, axis = 3).shape\n",
        "model, model_description = build_CNN_model(my_shape)\n",
        "model.summary()"
      ]
    },
    {
      "cell_type": "markdown",
      "metadata": {
        "id": "6ERawgsZGRQa"
      },
      "source": [
        "# Read history files and generate acc+loss plots, then save to files"
      ]
    },
    {
      "cell_type": "code",
      "execution_count": null,
      "metadata": {
        "id": "Wee9a2FOQO2D",
        "colab": {
          "base_uri": "https://localhost:8080/",
          "height": 71
        },
        "outputId": "99912879-002c-4690-deac-a9951878ccf9"
      },
      "outputs": [
        {
          "output_type": "stream",
          "name": "stdout",
          "text": [
            "expert_A_1sec_1chunk_64Hz_fold_0.png\n",
            "DONE\n"
          ]
        },
        {
          "output_type": "display_data",
          "data": {
            "text/plain": [
              "<Figure size 576x576 with 0 Axes>"
            ]
          },
          "metadata": {}
        }
      ],
      "source": [
        "freq = FREQ\n",
        "\n",
        "if COMPLETE_CALCULATIONS:\n",
        "    which_expert = np.array ([\"A\", \"B\", \"C\"])\n",
        "    windows = [1, 2, 5, 10, 20]\n",
        "    chunks = [1, 2, 5, 10, 20, 10000]\n",
        "    folds = [0, 1, 2, 3, 4]\n",
        "else:\n",
        "    # For fast testing only\n",
        "    which_expert = np.array ([\"A\"])\n",
        "    windows = [1]\n",
        "    chunks = [1]\n",
        "    folds = [0]\n",
        "\n",
        "for we in which_expert:\n",
        "    for w in windows:\n",
        "        for c in chunks:\n",
        "            for f in folds:\n",
        "                # due to the very long computation times for chunks=10000 only one fold was computed\n",
        "                if c == 10000:\n",
        "                    f = 0\n",
        "                hist_file_name = \"history_expert_{}_{}sec_{}chunk_{}Hz_fold_{}.pckl\".format(we, w, c, freq, f)\n",
        "                hist_file_name_2 = \"expert_{}_{}sec_{}chunk_{}Hz_fold_{}.png\".format(we, w, c, freq, f)\n",
        "                hist_file_title = \"expert_{}_{}sec_{}chunk_{}Hz_fold_{}\".format(we, w, c, freq, f)\n",
        "                print(hist_file_name_2)\n",
        "                with open(WRK_DIR + 'hists/' + hist_file_name, 'rb') as file:\n",
        "                    history = pickle.load(file)\n",
        "                    plot_acc_loss(hist_file_name_2, history, title = hist_file_title, save_to_file = True)\n",
        "\n",
        "print(\"DONE\")"
      ]
    },
    {
      "cell_type": "markdown",
      "metadata": {
        "id": "mhF7-x9QFC6F"
      },
      "source": [
        "# Read best models and generate ROC curves, then save them to files"
      ]
    },
    {
      "cell_type": "code",
      "execution_count": null,
      "metadata": {
        "id": "kCqD17b9GQ7x",
        "colab": {
          "base_uri": "https://localhost:8080/",
          "height": 106
        },
        "outputId": "8efcd14c-5e60-400e-e3bc-ef54cb5bd65f"
      },
      "outputs": [
        {
          "output_type": "stream",
          "name": "stdout",
          "text": [
            "expert_A_1sec_1chunk_64Hz_fold_0.png\n",
            "5/5 [==============================] - 0s 5ms/step\n",
            "10/10 [==============================] - 1s 8ms/step - loss: 1.0178 - acc: 0.5860\n",
            "DONE\n"
          ]
        },
        {
          "output_type": "display_data",
          "data": {
            "text/plain": [
              "<Figure size 720x720 with 0 Axes>"
            ]
          },
          "metadata": {}
        }
      ],
      "source": [
        "freq = FREQ\n",
        "\n",
        "accuracy_list = []\n",
        "precision_list = []\n",
        "recall_list = []\n",
        "F_measure_list = []\n",
        "\n",
        "if COMPLETE_CALCULATIONS:\n",
        "    which_expert = np.array ([\"A\", \"B\", \"C\"])\n",
        "    windows = [1, 2, 5, 10, 20]\n",
        "    chunks = [1, 2, 5, 10, 20, 10000]\n",
        "    folds = [0, 1, 2, 3, 4]\n",
        "else:\n",
        "    # For fast testing only\n",
        "    which_expert = np.array ([\"A\"])\n",
        "    windows = [1]\n",
        "    chunks = [1]\n",
        "    folds = [0]\n",
        "\n",
        "start = time.time()\n",
        "\n",
        "for we in which_expert:\n",
        "    for w in windows:\n",
        "        file = open(WRK_DIR + \"results/results_test_data_evaluate_predict.txt\", \"a\")\n",
        "        for c in chunks:\n",
        "            x, y, data_name = read_data(freq = FREQ, which_expert = we, window = w, chunks = c, print_to_file = False)\n",
        "            x2, x_test, y2, y_test = train_test_split(x, y, test_size = 0.2, shuffle = True, random_state = SEED)\n",
        "            x_test_3d = x_test\n",
        "            x_test_3d = np.expand_dims(x_test_3d, axis = 3)\n",
        "\n",
        "            my_shape = np.expand_dims(x, axis = 3).shape\n",
        "            my_shape[1:]\n",
        "            model, model_description = build_CNN_model(my_shape)\n",
        "\n",
        "            i = 0\n",
        "            for f in folds:\n",
        "                # due to the very long computation times for chunks = 10000 only one fold was computed\n",
        "                if c == 10000:\n",
        "                    f = 0\n",
        "                    i = i + 1\n",
        "                best_model_str = WRK_DIR + \"best_models/\" + \"best_model_expert_{}_{}sec_{}chunk_{}Hz_fold_{}.hdf5\".format(we, w, c, freq, f)\n",
        "                file_name = \"expert_{}_{}sec_{}chunk_{}Hz_fold_{}.png\".format(we, w, c, freq, f)\n",
        "                # Loading the weights of the best model and checking its effectiveness (validate and test data).\n",
        "                model.load_weights(best_model_str)\n",
        "                mpl.rcParams['figure.figsize'] = (10, 10)\n",
        "                colors = plt.rcParams['axes.prop_cycle'].by_key()['color']\n",
        "\n",
        "                # due to the very long computation times for chunks = 10000 only one fold was computed\n",
        "                if (c == 10000 and i == 1) or c != 10000:\n",
        "                    print(file_name)\n",
        "                    predictions = model.predict(x_test_3d, verbose = 1)\n",
        "                    m_eval = model.evaluate(x_test_3d, y_test, batch_size = 16, verbose = 1)\n",
        "\n",
        "                    plot_roc_curve(file_name, y_test, predictions, save_to_file = True, color = colors[0])\n",
        "\n",
        "                    cm = confusion_matrix(y_test, predictions > 0.5)\n",
        "                    cmdf = pd.DataFrame(\n",
        "                        confusion_matrix(y_test, predictions > 0.5, labels = [0, 1]),\n",
        "                        index = ['true: seizure', 'true: no seizure'],\n",
        "                        columns = ['pred: seizure', 'pred: no seizure']\n",
        "                    )\n",
        "\n",
        "                    print(\"########################################################\", file = file)\n",
        "                    print(file_name, file = file)\n",
        "                    print(\"\\n\", file = file)\n",
        "                    print(cmdf, file = file)\n",
        "                    print(\"\\n\", file = file)\n",
        "                    print(\"Accuracy:  %.2f%%\" % (m_eval[1] * 100), file = file)\n",
        "                    accuracy_list.append(m_eval[1] * 100)\n",
        "\n",
        "                    precision = cm[0, 0] / (cm[0, 0] + cm[1, 0])\n",
        "                    precision_list.append(precision)\n",
        "\n",
        "                    recall = cm[0, 0] / (cm[0, 0] + cm[0, 1])\n",
        "                    recall_list.append(recall)\n",
        "\n",
        "                    F_measure = 2 * ((precision * recall) / (precision + recall))\n",
        "                    F_measure_list.append(F_measure)\n",
        "\n",
        "                    out = 'Precision: ' + str(round(precision, 4))\n",
        "                    print(out, file = file)\n",
        "                    out = 'Recall:    ' + str(round(recall, 4))\n",
        "                    print(out, file = file)\n",
        "                    out = 'F-measure: ' + str(round(F_measure, 4))\n",
        "                    print(out, file = file)\n",
        "                    print(\"\\n\", file = file)\n",
        "\n",
        "            out = \"expert_{}_{}sec_{}chunk_{}Hz\".format(we, w, c, freq)\n",
        "            print(out, file = file)\n",
        "            print('--------------------------------------------------------', file = file)\n",
        "            out = ' --Average accuracy for all folds: ' + str(round(np.mean(accuracy_list), 2)) + '%'\n",
        "            print(out, file = file)\n",
        "            out = ' --Average precision for all folds: ' + str(round(np.mean(precision_list), 4))\n",
        "            print(out, file = file)\n",
        "            out = ' --Average recall for all folds: ' + str(round(np.mean(recall_list), 4))\n",
        "            print(out, file = file)\n",
        "            out = ' --Average F_measure for all folds: ' + str(round(np.mean(F_measure_list), 4))\n",
        "            print(out, file = file)\n",
        "            print('\\n', file = file)\n",
        "\n",
        "            accuracy_list = []\n",
        "            precision_list = []\n",
        "            recall_list = []\n",
        "            F_measure_list = []\n",
        "\n",
        "        file.close()\n",
        "        file = open(WRK_DIR + \"results/results_test_data_evaluate_predict.txt\", \"a\")\n",
        "\n",
        "end = time.time()\n",
        "print(\"Total computation time: \", int(end - start) // 60, \"m \", int(end - start) % 60,  \"s\", sep = \"\", file = file)\n",
        "file.close()\n",
        "\n",
        "print(\"DONE\")"
      ]
    },
    {
      "cell_type": "markdown",
      "metadata": {
        "id": "_NsmHviP9bLx"
      },
      "source": [
        "# Reading sample data and various visualizations\n",
        "\n",
        "Run the three below block for testing and education purposes."
      ]
    },
    {
      "cell_type": "markdown",
      "metadata": {
        "id": "JiGntdAl96YS"
      },
      "source": [
        "## Read sample HDF5 file with input data.\n",
        "First set the required values for the variables `which_expert`, `window`, `chunks`, `fold_number`. See `read_data`, `CNN_fit_eval_pred` and `build_CNN_model` functions for datails."
      ]
    },
    {
      "cell_type": "code",
      "execution_count": null,
      "metadata": {
        "colab": {
          "base_uri": "https://localhost:8080/"
        },
        "id": "f-UgGGx59nMs",
        "outputId": "8eb52f5a-e9eb-4de7-dbf2-e02f8c55fe8e"
      },
      "outputs": [
        {
          "output_type": "stream",
          "name": "stdout",
          "text": [
            "x: (781, 64, 18)\n",
            "y: (781,)\n",
            "DONE\n"
          ]
        }
      ],
      "source": [
        "freq = FREQ\n",
        "which_expert = \"A\"\n",
        "window = 1\n",
        "chunks = 1\n",
        "fold_number = 0\n",
        "\n",
        "# Read datasets\n",
        "data_name = \"expert_{}_{}sec_{}chunk_{}Hz.hdf5\".format(which_expert, window, chunks, freq)\n",
        "data_name_no_ext = os.path.splitext(data_name)[0]\n",
        "\n",
        "ds = 1\n",
        "size = int(freq * window / ds)\n",
        "file_h5 = h5py.File(INPUT_DIR + data_name, \"r\")\n",
        "temp = file_h5[\"FINAL.mtx\"]\n",
        "temp = np.array(temp)\n",
        "dd = np.transpose(temp)\n",
        "dd.shape\n",
        "ddss = dd[::ds]\n",
        "dr = ddss.reshape(int(ddss.shape[0] / size), size, dd.shape[1])\n",
        "x = dr[:,:,0:NO_OF_EEG_CHANELS]\n",
        "y = dr[:,0,SEIZURE_INDICATOR - 1]\n",
        "x = tf.keras.utils.normalize(x, axis = 1)\n",
        "\n",
        "print(\"x:\", x.shape)\n",
        "print(\"y:\", y.shape)\n",
        "\n",
        "# Extract test data\n",
        "# The same x_test and y_test is taken as in CNN_fit_eval_pred function (because of the SEED global variable)\n",
        "x2, x_test, y2, y_test = train_test_split(x, y, test_size = 0.2, shuffle = True, random_state = SEED)\n",
        "x_test_3d = x_test\n",
        "x_test_3d = np.expand_dims(x_test_3d, axis = 3)\n",
        "\n",
        "print(\"DONE\")"
      ]
    },
    {
      "cell_type": "markdown",
      "metadata": {
        "id": "e_Pupkty-J4a"
      },
      "source": [
        "## Read sample best model and evaluate it on the test data"
      ]
    },
    {
      "cell_type": "code",
      "execution_count": null,
      "metadata": {
        "id": "KvfQ5T6O-PVJ",
        "colab": {
          "base_uri": "https://localhost:8080/",
          "height": 785
        },
        "outputId": "f1289ff1-8a9d-47f6-83e5-2f4f34e8b5d9"
      },
      "outputs": [
        {
          "output_type": "stream",
          "name": "stdout",
          "text": [
            "test_acc: 0.586\n",
            "test_loss: 1.0178\n",
            "                  pred: seizure  pred: no seizure\n",
            "true: seizure                53                22\n",
            "true: no seizure             43                39\n",
            "\n",
            "\n",
            "Precision: 0.5521\n",
            "Recall: 0.7067\n",
            "F-measure: 0.6199\n"
          ]
        },
        {
          "output_type": "display_data",
          "data": {
            "text/plain": [
              "<Figure size 720x720 with 1 Axes>"
            ],
            "image/png": "[encoded data removed]"
          },
          "metadata": {
            "needs_background": "light"
          }
        }
      ],
      "source": [
        "# Read a sample best model\n",
        "best_model_str = WRK_DIR + \"best_models/best_model_{}_fold_{}.hdf5\".format(data_name_no_ext, fold_number)\n",
        "my_shape = np.expand_dims(x, axis = 3).shape\n",
        "my_shape[1:]\n",
        "model, model_description = build_CNN_model(my_shape)\n",
        "model.load_weights(best_model_str, by_name = False)\n",
        "\n",
        "#######################################################\n",
        "# Evaluate our model on the test data\n",
        "#######################################################\n",
        "test_loss, test_acc = model.evaluate(x_test_3d, y_test, batch_size = 16, verbose = 0)\n",
        "print('test_acc:', round(test_acc, 4))\n",
        "print('test_loss:', round(test_loss, 4))\n",
        "\n",
        "predictions = model.predict(x_test_3d, verbose = 0)\n",
        "\n",
        "mpl.rcParams['figure.figsize'] = (10, 10)\n",
        "colors = plt.rcParams['axes.prop_cycle'].by_key()['color']\n",
        "\n",
        "name = data_name + '_fold_' + str(fold_number)\n",
        "plot_roc_curve(name, y_test, predictions, save_to_file = False, color = colors[0])\n",
        "cm = confusion_matrix(y_test, predictions > 0.5)\n",
        "cmtx = pd.DataFrame(\n",
        "    confusion_matrix(y_test, predictions > 0.5, labels = [0, 1]),\n",
        "    index = ['true: seizure', 'true: no seizure'],\n",
        "    columns = ['pred: seizure', 'pred: no seizure']\n",
        ")\n",
        "print(cmtx)\n",
        "precision = cm[0,0] / (cm[0,0] + cm[1,0])\n",
        "recall = cm[0,0] / (cm[0,0] + cm[0,1])\n",
        "F_measure = 2 * ((precision * recall) / (precision + recall))\n",
        "\n",
        "print('\\n')\n",
        "out = 'Precision: ' + str(round(precision, 4))\n",
        "print(out)\n",
        "out = 'Recall: ' + str(round(recall, 4))\n",
        "print(out)\n",
        "out = 'F-measure: ' + str(round(F_measure, 4))\n",
        "print(out)"
      ]
    },
    {
      "cell_type": "markdown",
      "metadata": {
        "id": "5OUVpAKj-XNR"
      },
      "source": [
        "## Plot training and validation history"
      ]
    },
    {
      "cell_type": "code",
      "execution_count": null,
      "metadata": {
        "id": "NPoktiGzw0SP",
        "colab": {
          "base_uri": "https://localhost:8080/",
          "height": 585
        },
        "outputId": "628a3656-686a-4bb9-d673-3743a6e987d0"
      },
      "outputs": [
        {
          "output_type": "display_data",
          "data": {
            "text/plain": [
              "<Figure size 576x576 with 2 Axes>"
            ],
            "image/png": "[encoded data removed]"
          },
          "metadata": {
            "needs_background": "light"
          }
        }
      ],
      "source": [
        "# Change the file name to the correct one\n",
        "hist_str = WRK_DIR + \"hists/history_{}_fold_{}.pckl\".format(data_name_no_ext, fold_number)\n",
        "with open(hist_str, 'rb') as f:\n",
        "    history = pickle.load(f)\n",
        "    #f.close()\n",
        "\n",
        "# if save_to_file = False, any string can be given as file_name variable\n",
        "plot_acc_loss('any-string-can-be-given-here', history, save_to_file = False)"
      ]
    },
    {
      "cell_type": "markdown",
      "metadata": {
        "id": "N3ENjFf13HC7"
      },
      "source": [
        "## Plot data as 2D images\n",
        "\n",
        "On the upper figure a seizure chunk is depicted. On the lower figure a non-seizure chunk is depicted. Do you see any particular difference between the pictures? Probably sometimes yes and sometimes not. The individual chunks are chosen randomly."
      ]
    },
    {
      "cell_type": "code",
      "execution_count": null,
      "metadata": {
        "id": "tqUVxRMc3NFC",
        "colab": {
          "base_uri": "https://localhost:8080/",
          "height": 950
        },
        "outputId": "6a60d661-658d-45ec-c9ff-eeaf19d27a57"
      },
      "outputs": [
        {
          "output_type": "execute_result",
          "data": {
            "text/plain": [
              "[Text(0, 0.5, ''), Text(0.5, 0, 'Datapoints')]"
            ]
          },
          "metadata": {},
          "execution_count": 20
        },
        {
          "output_type": "display_data",
          "data": {
            "text/plain": [
              "<Figure size 720x1152 with 4 Axes>"
            ],
            "image/png": "[encoded data removed]"
          },
          "metadata": {
            "needs_background": "light"
          }
        }
      ],
      "source": [
        "arr_1 = np.where(y == 1)\n",
        "arr_0 = np.where(y == 0)\n",
        "N_1 = randrange(arr_1[0][0], arr_1[0][-1])\n",
        "N_0 = randrange(arr_0[0][0], arr_0[0][-1])\n",
        "\n",
        "fig, (ax1, ax2, ax3, ax4) = plt.subplots(4)\n",
        "fig.set_size_inches(10, 16)\n",
        "\n",
        "# For using other colormaps, see https://matplotlib.org/stable/tutorials/colors/colormaps.html\n",
        "\n",
        "# color\n",
        "ax1.imshow(np.transpose(x[N_1,:,:]))\n",
        "ax2.imshow(np.transpose(x[N_0,:,:]))\n",
        "\n",
        "# B&W\n",
        "#ax1.imshow(np.transpose(x[N_1,:,:]), plt.get_cmap(\"tab10\"))\n",
        "#ax2.imshow(np.transpose(x[N_0,:,:]), cmap=plt.cm.binary)\n",
        "\n",
        "ax3.plot(x[N_1,:,0])\n",
        "ax4.plot(x[N_0,:,0])\n",
        "\n",
        "ax1.set_title(\"Seizure (channels # 0-15)\")\n",
        "ax1.set(xlabel = '', ylabel = 'EEG channels')\n",
        "\n",
        "ax2.set_title(\"Non-seizure (channels # 0-15)\")\n",
        "ax2.set(xlabel = '', ylabel = 'EEG channels')\n",
        "\n",
        "ax3.set_title(\"Seizure (channel # 0)\")\n",
        "ax3.set(xlabel = '', ylabel = '')\n",
        "\n",
        "ax4.set_title(\"Non-seizure (channel # 0)\")\n",
        "ax4.set(xlabel = 'Datapoints', ylabel = '')"
      ]
    },
    {
      "cell_type": "markdown",
      "metadata": {
        "id": "2tg76IOrdOGK"
      },
      "source": [
        "# Demonstrate how to use a pre-trained model to classify data other than that used to build the CNN network\n",
        "\n",
        "**An important note**: you must be aware that our CNN network has been trained on a certain dataset (quite specific) and is ready to recognize a certain type of seizures (i.e. neonatals ones). Therefore, it should not be expected that when we provide completely different data to the pre-trained CNN network (e.g. based on elderly patients), the network will correctly classify the data. Also some technical details on EEG recordings must be considered carefully. In our case, signals from 18 EEG channels connected according to the 'double banana' montage were fed to the CNN network. When the new data is not analogous, the classification results can be very questionable. Nevertheless, when the new data is compatible (in the sense as stated above), there are no major contraindications to feed them to our pre-trained CNN network.\n",
        "\n",
        "As a new dataset, i.e. one that was not used to build and train the CNN network, we will use EEG signals from neonates where there was no consensus between experts. 17 neonates had a seizure annotated by only 1 or 2 experts (infants No. `2`, `6`, `8`, `12`, `23`, `24`, `26`, `33`, `43`, `46`, `54`, `56`, `61`, `64`, `65`, `68`, `74`). Due to the\n",
        "ambiguity in the expert opinion this subset was excluded from the process of building CNNs.\n",
        "\n",
        "For classification task we choose the infants where expert C annotated at least 1 seizure (infants No. `6`, `12`, `23`, `26`, `33`, `43`, `46`, `54`, `56`, `61`, `64`, `65`, `74` ), see Table 7 in the paper.\n",
        "\n",
        "To avoid a conflict with the filenames (see `working\\inputs` directory), the expert was marked `CC` instead of `C`."
      ]
    },
    {
      "cell_type": "markdown",
      "metadata": {
        "id": "uugqIZJLAmjD"
      },
      "source": [
        "## Step 1: read new dataset to be fed to the pre-trained CNN network.\n",
        "\n",
        "A *new dataset*, i.e. one that was not used to build and train the CNN network"
      ]
    },
    {
      "cell_type": "code",
      "execution_count": null,
      "metadata": {
        "id": "_q3vPWJTdk5E"
      },
      "outputs": [],
      "source": [
        "freq = FREQ\n",
        "which_expert = \"CC\"\n",
        "window = 10\n",
        "chunks = 20\n",
        "\n",
        "data_name = \"expert_{}_{}sec_{}chunk_{}Hz.hdf5\".format(which_expert, window, chunks, freq)\n",
        "\n",
        "ds = 1\n",
        "size = int(freq * window / ds)\n",
        "file_h5 = h5py.File(INPUT_DIR + data_name, \"r\")\n",
        "temp = file_h5[\"FINAL.mtx\"]\n",
        "temp = np.array(temp)\n",
        "dd = np.transpose(temp)\n",
        "dd.shape\n",
        "ddss = dd[::ds]\n",
        "dr = ddss.reshape(int(ddss.shape[0] / size), size, dd.shape[1])\n",
        "x = dr[:,:,0:NO_OF_EEG_CHANELS]\n",
        "y = dr[:,0,SEIZURE_INDICATOR - 1]\n",
        "x = tf.keras.utils.normalize(x, axis = 1)"
      ]
    },
    {
      "cell_type": "markdown",
      "metadata": {
        "id": "dBWLb2wRA8sB"
      },
      "source": [
        "## Step 2: Read the pre-trained model\n",
        "\n",
        "Note that the model must be compatible with the dataset we want to classify. The compatibility means that the window size must be the same both in the model and in the new dataset. In this example we use the model saved in the file `best_model_expert_C_10sec_10000chunk_64Hz_fold_0.hdf5` because the performance of this model is very good, see Tables 3, 4, 5 in the paper."
      ]
    },
    {
      "cell_type": "code",
      "execution_count": null,
      "metadata": {
        "id": "dJ83ZL-hfEVp"
      },
      "outputs": [],
      "source": [
        "# Read a sample best model\n",
        "#best_model_str = WRK_DIR + \"best_models/best_model_{}_fold_{}.hdf5\".format(data_name_no_ext, fold_number)\n",
        "best_model_str = WRK_DIR + \"best_models/best_model_expert_C_10sec_10000chunk_64Hz_fold_0.hdf5\"\n",
        "my_shape = np.expand_dims(x, axis = 3).shape\n",
        "my_shape[1:]\n",
        "model, model_description = build_CNN_model(my_shape)\n",
        "model.load_weights(best_model_str, by_name = False)\n",
        "\n",
        "#model.summary()\n"
      ]
    },
    {
      "cell_type": "markdown",
      "metadata": {
        "id": "oUEIYq36DzGU"
      },
      "source": [
        "## Step 3: run predict method\n",
        "\n",
        "The obtained performance seems to be quite good."
      ]
    },
    {
      "cell_type": "code",
      "execution_count": null,
      "metadata": {
        "colab": {
          "base_uri": "https://localhost:8080/",
          "height": 749
        },
        "id": "r11kZiqDfYVh",
        "outputId": "f9b805ae-47a4-4db3-f748-6ad39e284784"
      },
      "outputs": [
        {
          "output_type": "stream",
          "name": "stdout",
          "text": [
            "                  pred: seizure  pred: no seizure\n",
            "true: seizure               303                 5\n",
            "true: no seizure             97               190\n",
            "\n",
            "\n",
            "Presision: 0.7575\n",
            "Recall:  0.9837662337662337\n",
            "F measure:  0.8559322033898306\n"
          ]
        },
        {
          "output_type": "display_data",
          "data": {
            "text/plain": [
              "<Figure size 720x720 with 1 Axes>"
            ],
            "image/png": "[encoded data removed]"
          },
          "metadata": {
            "needs_background": "light"
          }
        }
      ],
      "source": [
        "x_3d = x\n",
        "x_3d = np.expand_dims(x_3d, axis = 3)\n",
        "\n",
        "predictions = model.predict(x_3d, verbose = 0)\n",
        "\n",
        "cm = confusion_matrix(y, predictions > 0.5)\n",
        "cmtx = pd.DataFrame(\n",
        "    confusion_matrix(y, predictions > 0.5, labels = [0, 1]),\n",
        "    index = ['true: seizure', 'true: no seizure'],\n",
        "    columns = ['pred: seizure', 'pred: no seizure']\n",
        ")\n",
        "precision = cm[0,0] / (cm[0,0] + cm[1,0])\n",
        "recall = cm[0,0] / (cm[0,0] + cm[0,1])\n",
        "F_measure = 2 * ((precision * recall) / (precision + recall))\n",
        "\n",
        "print(cmtx)\n",
        "print(\"\\n\")\n",
        "print(\"Presision:\", precision)\n",
        "print(\"Recall: \", recall)\n",
        "print(\"F measure: \", F_measure)\n",
        "\n",
        "mpl.rcParams['figure.figsize'] = (10, 10)\n",
        "colors = plt.rcParams['axes.prop_cycle'].by_key()['color']\n",
        "plot_roc_curve(\"ROC curve\", y, predictions, save_to_file = False, color = colors[0])\n"
      ]
    }
  ],
  "metadata": {
    "accelerator": "GPU",
    "colab": {
      "name": "EEG_neonatal.ipynb",
      "toc_visible": true,
      "provenance": []
    },
    "kernelspec": {
      "display_name": "Python 3 (ipykernel)",
      "language": "python",
      "name": "python3"
    },
    "language_info": {
      "codemirror_mode": {
        "name": "ipython",
        "version": 3
      },
      "file_extension": ".py",
      "mimetype": "text/x-python",
      "name": "python",
      "nbconvert_exporter": "python",
      "pygments_lexer": "ipython3",
      "version": "3.9.9"
    },
    "toc": {
      "base_numbering": 1,
      "nav_menu": {},
      "number_sections": true,
      "sideBar": true,
      "skip_h1_title": false,
      "title_cell": "Table of Contents",
      "title_sidebar": "Contents",
      "toc_cell": false,
      "toc_position": {},
      "toc_section_display": true,
      "toc_window_display": false
    },
    "varInspector": {
      "cols": {
        "lenName": 16,
        "lenType": 16,
        "lenVar": 40
      },
      "kernels_config": {
        "python": {
          "delete_cmd_postfix": "",
          "delete_cmd_prefix": "del ",
          "library": "var_list.py",
          "varRefreshCmd": "print(var_dic_list())"
        },
        "r": {
          "delete_cmd_postfix": ") ",
          "delete_cmd_prefix": "rm(",
          "library": "var_list.r",
          "varRefreshCmd": "cat(var_dic_list()) "
        }
      },
      "types_to_exclude": [
        "module",
        "function",
        "builtin_function_or_method",
        "instance",
        "_Feature"
      ],
      "window_display": false
    }
  },
  "nbformat": 4,
  "nbformat_minor": 0
}